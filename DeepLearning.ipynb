{
  "nbformat": 4,
  "nbformat_minor": 0,
  "metadata": {
    "colab": {
      "name": "DeepLearning.ipynb",
      "provenance": [],
      "collapsed_sections": []
    },
    "kernelspec": {
      "name": "python3",
      "display_name": "Python 3"
    },
    "language_info": {
      "name": "python"
    },
    "accelerator": "GPU",
    "widgets": {
      "application/vnd.jupyter.widget-state+json": {
        "e1ffd2d2e5d343339e949cf06e84b768": {
          "model_module": "@jupyter-widgets/controls",
          "model_name": "HBoxModel",
          "model_module_version": "1.5.0",
          "state": {
            "_dom_classes": [],
            "_model_module": "@jupyter-widgets/controls",
            "_model_module_version": "1.5.0",
            "_model_name": "HBoxModel",
            "_view_count": null,
            "_view_module": "@jupyter-widgets/controls",
            "_view_module_version": "1.5.0",
            "_view_name": "HBoxView",
            "box_style": "",
            "children": [
              "IPY_MODEL_4624dfd9d96e43258eb605c5a5ae87e2",
              "IPY_MODEL_85eb1f497b1643dd92e46817c68c24c4",
              "IPY_MODEL_eeb5c13e2c1c43088291238763cce9bc"
            ],
            "layout": "IPY_MODEL_09334defa0454f349d4ac69388c08a5e"
          }
        },
        "4624dfd9d96e43258eb605c5a5ae87e2": {
          "model_module": "@jupyter-widgets/controls",
          "model_name": "HTMLModel",
          "model_module_version": "1.5.0",
          "state": {
            "_dom_classes": [],
            "_model_module": "@jupyter-widgets/controls",
            "_model_module_version": "1.5.0",
            "_model_name": "HTMLModel",
            "_view_count": null,
            "_view_module": "@jupyter-widgets/controls",
            "_view_module_version": "1.5.0",
            "_view_name": "HTMLView",
            "description": "",
            "description_tooltip": null,
            "layout": "IPY_MODEL_ac26888f5acf4ffcb803615fa1b79adf",
            "placeholder": "​",
            "style": "IPY_MODEL_c598603cffd24a9d864b0ad0d54e6a8a",
            "value": ""
          }
        },
        "85eb1f497b1643dd92e46817c68c24c4": {
          "model_module": "@jupyter-widgets/controls",
          "model_name": "FloatProgressModel",
          "model_module_version": "1.5.0",
          "state": {
            "_dom_classes": [],
            "_model_module": "@jupyter-widgets/controls",
            "_model_module_version": "1.5.0",
            "_model_name": "FloatProgressModel",
            "_view_count": null,
            "_view_module": "@jupyter-widgets/controls",
            "_view_module_version": "1.5.0",
            "_view_name": "ProgressView",
            "bar_style": "success",
            "description": "",
            "description_tooltip": null,
            "layout": "IPY_MODEL_7b0e2b7d7812423fa25f54ee5902b5e2",
            "max": 9912422,
            "min": 0,
            "orientation": "horizontal",
            "style": "IPY_MODEL_00f3b9302c60440aabb95924265d9cb5",
            "value": 9912422
          }
        },
        "eeb5c13e2c1c43088291238763cce9bc": {
          "model_module": "@jupyter-widgets/controls",
          "model_name": "HTMLModel",
          "model_module_version": "1.5.0",
          "state": {
            "_dom_classes": [],
            "_model_module": "@jupyter-widgets/controls",
            "_model_module_version": "1.5.0",
            "_model_name": "HTMLModel",
            "_view_count": null,
            "_view_module": "@jupyter-widgets/controls",
            "_view_module_version": "1.5.0",
            "_view_name": "HTMLView",
            "description": "",
            "description_tooltip": null,
            "layout": "IPY_MODEL_d29ded7853464824a061a9f5717c162a",
            "placeholder": "​",
            "style": "IPY_MODEL_af7f8faaf1d34d089909f6a51c30d6cd",
            "value": " 9913344/? [00:00&lt;00:00, 64151978.73it/s]"
          }
        },
        "09334defa0454f349d4ac69388c08a5e": {
          "model_module": "@jupyter-widgets/base",
          "model_name": "LayoutModel",
          "model_module_version": "1.2.0",
          "state": {
            "_model_module": "@jupyter-widgets/base",
            "_model_module_version": "1.2.0",
            "_model_name": "LayoutModel",
            "_view_count": null,
            "_view_module": "@jupyter-widgets/base",
            "_view_module_version": "1.2.0",
            "_view_name": "LayoutView",
            "align_content": null,
            "align_items": null,
            "align_self": null,
            "border": null,
            "bottom": null,
            "display": null,
            "flex": null,
            "flex_flow": null,
            "grid_area": null,
            "grid_auto_columns": null,
            "grid_auto_flow": null,
            "grid_auto_rows": null,
            "grid_column": null,
            "grid_gap": null,
            "grid_row": null,
            "grid_template_areas": null,
            "grid_template_columns": null,
            "grid_template_rows": null,
            "height": null,
            "justify_content": null,
            "justify_items": null,
            "left": null,
            "margin": null,
            "max_height": null,
            "max_width": null,
            "min_height": null,
            "min_width": null,
            "object_fit": null,
            "object_position": null,
            "order": null,
            "overflow": null,
            "overflow_x": null,
            "overflow_y": null,
            "padding": null,
            "right": null,
            "top": null,
            "visibility": null,
            "width": null
          }
        },
        "ac26888f5acf4ffcb803615fa1b79adf": {
          "model_module": "@jupyter-widgets/base",
          "model_name": "LayoutModel",
          "model_module_version": "1.2.0",
          "state": {
            "_model_module": "@jupyter-widgets/base",
            "_model_module_version": "1.2.0",
            "_model_name": "LayoutModel",
            "_view_count": null,
            "_view_module": "@jupyter-widgets/base",
            "_view_module_version": "1.2.0",
            "_view_name": "LayoutView",
            "align_content": null,
            "align_items": null,
            "align_self": null,
            "border": null,
            "bottom": null,
            "display": null,
            "flex": null,
            "flex_flow": null,
            "grid_area": null,
            "grid_auto_columns": null,
            "grid_auto_flow": null,
            "grid_auto_rows": null,
            "grid_column": null,
            "grid_gap": null,
            "grid_row": null,
            "grid_template_areas": null,
            "grid_template_columns": null,
            "grid_template_rows": null,
            "height": null,
            "justify_content": null,
            "justify_items": null,
            "left": null,
            "margin": null,
            "max_height": null,
            "max_width": null,
            "min_height": null,
            "min_width": null,
            "object_fit": null,
            "object_position": null,
            "order": null,
            "overflow": null,
            "overflow_x": null,
            "overflow_y": null,
            "padding": null,
            "right": null,
            "top": null,
            "visibility": null,
            "width": null
          }
        },
        "c598603cffd24a9d864b0ad0d54e6a8a": {
          "model_module": "@jupyter-widgets/controls",
          "model_name": "DescriptionStyleModel",
          "model_module_version": "1.5.0",
          "state": {
            "_model_module": "@jupyter-widgets/controls",
            "_model_module_version": "1.5.0",
            "_model_name": "DescriptionStyleModel",
            "_view_count": null,
            "_view_module": "@jupyter-widgets/base",
            "_view_module_version": "1.2.0",
            "_view_name": "StyleView",
            "description_width": ""
          }
        },
        "7b0e2b7d7812423fa25f54ee5902b5e2": {
          "model_module": "@jupyter-widgets/base",
          "model_name": "LayoutModel",
          "model_module_version": "1.2.0",
          "state": {
            "_model_module": "@jupyter-widgets/base",
            "_model_module_version": "1.2.0",
            "_model_name": "LayoutModel",
            "_view_count": null,
            "_view_module": "@jupyter-widgets/base",
            "_view_module_version": "1.2.0",
            "_view_name": "LayoutView",
            "align_content": null,
            "align_items": null,
            "align_self": null,
            "border": null,
            "bottom": null,
            "display": null,
            "flex": null,
            "flex_flow": null,
            "grid_area": null,
            "grid_auto_columns": null,
            "grid_auto_flow": null,
            "grid_auto_rows": null,
            "grid_column": null,
            "grid_gap": null,
            "grid_row": null,
            "grid_template_areas": null,
            "grid_template_columns": null,
            "grid_template_rows": null,
            "height": null,
            "justify_content": null,
            "justify_items": null,
            "left": null,
            "margin": null,
            "max_height": null,
            "max_width": null,
            "min_height": null,
            "min_width": null,
            "object_fit": null,
            "object_position": null,
            "order": null,
            "overflow": null,
            "overflow_x": null,
            "overflow_y": null,
            "padding": null,
            "right": null,
            "top": null,
            "visibility": null,
            "width": null
          }
        },
        "00f3b9302c60440aabb95924265d9cb5": {
          "model_module": "@jupyter-widgets/controls",
          "model_name": "ProgressStyleModel",
          "model_module_version": "1.5.0",
          "state": {
            "_model_module": "@jupyter-widgets/controls",
            "_model_module_version": "1.5.0",
            "_model_name": "ProgressStyleModel",
            "_view_count": null,
            "_view_module": "@jupyter-widgets/base",
            "_view_module_version": "1.2.0",
            "_view_name": "StyleView",
            "bar_color": null,
            "description_width": ""
          }
        },
        "d29ded7853464824a061a9f5717c162a": {
          "model_module": "@jupyter-widgets/base",
          "model_name": "LayoutModel",
          "model_module_version": "1.2.0",
          "state": {
            "_model_module": "@jupyter-widgets/base",
            "_model_module_version": "1.2.0",
            "_model_name": "LayoutModel",
            "_view_count": null,
            "_view_module": "@jupyter-widgets/base",
            "_view_module_version": "1.2.0",
            "_view_name": "LayoutView",
            "align_content": null,
            "align_items": null,
            "align_self": null,
            "border": null,
            "bottom": null,
            "display": null,
            "flex": null,
            "flex_flow": null,
            "grid_area": null,
            "grid_auto_columns": null,
            "grid_auto_flow": null,
            "grid_auto_rows": null,
            "grid_column": null,
            "grid_gap": null,
            "grid_row": null,
            "grid_template_areas": null,
            "grid_template_columns": null,
            "grid_template_rows": null,
            "height": null,
            "justify_content": null,
            "justify_items": null,
            "left": null,
            "margin": null,
            "max_height": null,
            "max_width": null,
            "min_height": null,
            "min_width": null,
            "object_fit": null,
            "object_position": null,
            "order": null,
            "overflow": null,
            "overflow_x": null,
            "overflow_y": null,
            "padding": null,
            "right": null,
            "top": null,
            "visibility": null,
            "width": null
          }
        },
        "af7f8faaf1d34d089909f6a51c30d6cd": {
          "model_module": "@jupyter-widgets/controls",
          "model_name": "DescriptionStyleModel",
          "model_module_version": "1.5.0",
          "state": {
            "_model_module": "@jupyter-widgets/controls",
            "_model_module_version": "1.5.0",
            "_model_name": "DescriptionStyleModel",
            "_view_count": null,
            "_view_module": "@jupyter-widgets/base",
            "_view_module_version": "1.2.0",
            "_view_name": "StyleView",
            "description_width": ""
          }
        },
        "75a612d1a4cb423d85d35ddb66478ba9": {
          "model_module": "@jupyter-widgets/controls",
          "model_name": "HBoxModel",
          "model_module_version": "1.5.0",
          "state": {
            "_dom_classes": [],
            "_model_module": "@jupyter-widgets/controls",
            "_model_module_version": "1.5.0",
            "_model_name": "HBoxModel",
            "_view_count": null,
            "_view_module": "@jupyter-widgets/controls",
            "_view_module_version": "1.5.0",
            "_view_name": "HBoxView",
            "box_style": "",
            "children": [
              "IPY_MODEL_7a48de27971e4484be5768657da77a5d",
              "IPY_MODEL_77a2165b4c204dbba91bea7e53e02d69",
              "IPY_MODEL_8ab3680a964b41faaf0e8f486bd79d9b"
            ],
            "layout": "IPY_MODEL_5a392d7f9b2b461d86700fb655a564f6"
          }
        },
        "7a48de27971e4484be5768657da77a5d": {
          "model_module": "@jupyter-widgets/controls",
          "model_name": "HTMLModel",
          "model_module_version": "1.5.0",
          "state": {
            "_dom_classes": [],
            "_model_module": "@jupyter-widgets/controls",
            "_model_module_version": "1.5.0",
            "_model_name": "HTMLModel",
            "_view_count": null,
            "_view_module": "@jupyter-widgets/controls",
            "_view_module_version": "1.5.0",
            "_view_name": "HTMLView",
            "description": "",
            "description_tooltip": null,
            "layout": "IPY_MODEL_59b63e7cf6794ba9aa6af62c7b6f7962",
            "placeholder": "​",
            "style": "IPY_MODEL_c54b261723e74504966a2a8c6ddcf4b6",
            "value": ""
          }
        },
        "77a2165b4c204dbba91bea7e53e02d69": {
          "model_module": "@jupyter-widgets/controls",
          "model_name": "FloatProgressModel",
          "model_module_version": "1.5.0",
          "state": {
            "_dom_classes": [],
            "_model_module": "@jupyter-widgets/controls",
            "_model_module_version": "1.5.0",
            "_model_name": "FloatProgressModel",
            "_view_count": null,
            "_view_module": "@jupyter-widgets/controls",
            "_view_module_version": "1.5.0",
            "_view_name": "ProgressView",
            "bar_style": "success",
            "description": "",
            "description_tooltip": null,
            "layout": "IPY_MODEL_87c2003ccf414fa08164ac967d3641fa",
            "max": 28881,
            "min": 0,
            "orientation": "horizontal",
            "style": "IPY_MODEL_7c994eda071a4d0abe553bd06e7aaa29",
            "value": 28881
          }
        },
        "8ab3680a964b41faaf0e8f486bd79d9b": {
          "model_module": "@jupyter-widgets/controls",
          "model_name": "HTMLModel",
          "model_module_version": "1.5.0",
          "state": {
            "_dom_classes": [],
            "_model_module": "@jupyter-widgets/controls",
            "_model_module_version": "1.5.0",
            "_model_name": "HTMLModel",
            "_view_count": null,
            "_view_module": "@jupyter-widgets/controls",
            "_view_module_version": "1.5.0",
            "_view_name": "HTMLView",
            "description": "",
            "description_tooltip": null,
            "layout": "IPY_MODEL_5a42f2aba86643e6a789f84f71a7b51b",
            "placeholder": "​",
            "style": "IPY_MODEL_bd6f046f0e1245e69acead57abf87e64",
            "value": " 29696/? [00:00&lt;00:00, 879538.26it/s]"
          }
        },
        "5a392d7f9b2b461d86700fb655a564f6": {
          "model_module": "@jupyter-widgets/base",
          "model_name": "LayoutModel",
          "model_module_version": "1.2.0",
          "state": {
            "_model_module": "@jupyter-widgets/base",
            "_model_module_version": "1.2.0",
            "_model_name": "LayoutModel",
            "_view_count": null,
            "_view_module": "@jupyter-widgets/base",
            "_view_module_version": "1.2.0",
            "_view_name": "LayoutView",
            "align_content": null,
            "align_items": null,
            "align_self": null,
            "border": null,
            "bottom": null,
            "display": null,
            "flex": null,
            "flex_flow": null,
            "grid_area": null,
            "grid_auto_columns": null,
            "grid_auto_flow": null,
            "grid_auto_rows": null,
            "grid_column": null,
            "grid_gap": null,
            "grid_row": null,
            "grid_template_areas": null,
            "grid_template_columns": null,
            "grid_template_rows": null,
            "height": null,
            "justify_content": null,
            "justify_items": null,
            "left": null,
            "margin": null,
            "max_height": null,
            "max_width": null,
            "min_height": null,
            "min_width": null,
            "object_fit": null,
            "object_position": null,
            "order": null,
            "overflow": null,
            "overflow_x": null,
            "overflow_y": null,
            "padding": null,
            "right": null,
            "top": null,
            "visibility": null,
            "width": null
          }
        },
        "59b63e7cf6794ba9aa6af62c7b6f7962": {
          "model_module": "@jupyter-widgets/base",
          "model_name": "LayoutModel",
          "model_module_version": "1.2.0",
          "state": {
            "_model_module": "@jupyter-widgets/base",
            "_model_module_version": "1.2.0",
            "_model_name": "LayoutModel",
            "_view_count": null,
            "_view_module": "@jupyter-widgets/base",
            "_view_module_version": "1.2.0",
            "_view_name": "LayoutView",
            "align_content": null,
            "align_items": null,
            "align_self": null,
            "border": null,
            "bottom": null,
            "display": null,
            "flex": null,
            "flex_flow": null,
            "grid_area": null,
            "grid_auto_columns": null,
            "grid_auto_flow": null,
            "grid_auto_rows": null,
            "grid_column": null,
            "grid_gap": null,
            "grid_row": null,
            "grid_template_areas": null,
            "grid_template_columns": null,
            "grid_template_rows": null,
            "height": null,
            "justify_content": null,
            "justify_items": null,
            "left": null,
            "margin": null,
            "max_height": null,
            "max_width": null,
            "min_height": null,
            "min_width": null,
            "object_fit": null,
            "object_position": null,
            "order": null,
            "overflow": null,
            "overflow_x": null,
            "overflow_y": null,
            "padding": null,
            "right": null,
            "top": null,
            "visibility": null,
            "width": null
          }
        },
        "c54b261723e74504966a2a8c6ddcf4b6": {
          "model_module": "@jupyter-widgets/controls",
          "model_name": "DescriptionStyleModel",
          "model_module_version": "1.5.0",
          "state": {
            "_model_module": "@jupyter-widgets/controls",
            "_model_module_version": "1.5.0",
            "_model_name": "DescriptionStyleModel",
            "_view_count": null,
            "_view_module": "@jupyter-widgets/base",
            "_view_module_version": "1.2.0",
            "_view_name": "StyleView",
            "description_width": ""
          }
        },
        "87c2003ccf414fa08164ac967d3641fa": {
          "model_module": "@jupyter-widgets/base",
          "model_name": "LayoutModel",
          "model_module_version": "1.2.0",
          "state": {
            "_model_module": "@jupyter-widgets/base",
            "_model_module_version": "1.2.0",
            "_model_name": "LayoutModel",
            "_view_count": null,
            "_view_module": "@jupyter-widgets/base",
            "_view_module_version": "1.2.0",
            "_view_name": "LayoutView",
            "align_content": null,
            "align_items": null,
            "align_self": null,
            "border": null,
            "bottom": null,
            "display": null,
            "flex": null,
            "flex_flow": null,
            "grid_area": null,
            "grid_auto_columns": null,
            "grid_auto_flow": null,
            "grid_auto_rows": null,
            "grid_column": null,
            "grid_gap": null,
            "grid_row": null,
            "grid_template_areas": null,
            "grid_template_columns": null,
            "grid_template_rows": null,
            "height": null,
            "justify_content": null,
            "justify_items": null,
            "left": null,
            "margin": null,
            "max_height": null,
            "max_width": null,
            "min_height": null,
            "min_width": null,
            "object_fit": null,
            "object_position": null,
            "order": null,
            "overflow": null,
            "overflow_x": null,
            "overflow_y": null,
            "padding": null,
            "right": null,
            "top": null,
            "visibility": null,
            "width": null
          }
        },
        "7c994eda071a4d0abe553bd06e7aaa29": {
          "model_module": "@jupyter-widgets/controls",
          "model_name": "ProgressStyleModel",
          "model_module_version": "1.5.0",
          "state": {
            "_model_module": "@jupyter-widgets/controls",
            "_model_module_version": "1.5.0",
            "_model_name": "ProgressStyleModel",
            "_view_count": null,
            "_view_module": "@jupyter-widgets/base",
            "_view_module_version": "1.2.0",
            "_view_name": "StyleView",
            "bar_color": null,
            "description_width": ""
          }
        },
        "5a42f2aba86643e6a789f84f71a7b51b": {
          "model_module": "@jupyter-widgets/base",
          "model_name": "LayoutModel",
          "model_module_version": "1.2.0",
          "state": {
            "_model_module": "@jupyter-widgets/base",
            "_model_module_version": "1.2.0",
            "_model_name": "LayoutModel",
            "_view_count": null,
            "_view_module": "@jupyter-widgets/base",
            "_view_module_version": "1.2.0",
            "_view_name": "LayoutView",
            "align_content": null,
            "align_items": null,
            "align_self": null,
            "border": null,
            "bottom": null,
            "display": null,
            "flex": null,
            "flex_flow": null,
            "grid_area": null,
            "grid_auto_columns": null,
            "grid_auto_flow": null,
            "grid_auto_rows": null,
            "grid_column": null,
            "grid_gap": null,
            "grid_row": null,
            "grid_template_areas": null,
            "grid_template_columns": null,
            "grid_template_rows": null,
            "height": null,
            "justify_content": null,
            "justify_items": null,
            "left": null,
            "margin": null,
            "max_height": null,
            "max_width": null,
            "min_height": null,
            "min_width": null,
            "object_fit": null,
            "object_position": null,
            "order": null,
            "overflow": null,
            "overflow_x": null,
            "overflow_y": null,
            "padding": null,
            "right": null,
            "top": null,
            "visibility": null,
            "width": null
          }
        },
        "bd6f046f0e1245e69acead57abf87e64": {
          "model_module": "@jupyter-widgets/controls",
          "model_name": "DescriptionStyleModel",
          "model_module_version": "1.5.0",
          "state": {
            "_model_module": "@jupyter-widgets/controls",
            "_model_module_version": "1.5.0",
            "_model_name": "DescriptionStyleModel",
            "_view_count": null,
            "_view_module": "@jupyter-widgets/base",
            "_view_module_version": "1.2.0",
            "_view_name": "StyleView",
            "description_width": ""
          }
        },
        "38d5aff4c56f47079cd5a74a7b56f59e": {
          "model_module": "@jupyter-widgets/controls",
          "model_name": "HBoxModel",
          "model_module_version": "1.5.0",
          "state": {
            "_dom_classes": [],
            "_model_module": "@jupyter-widgets/controls",
            "_model_module_version": "1.5.0",
            "_model_name": "HBoxModel",
            "_view_count": null,
            "_view_module": "@jupyter-widgets/controls",
            "_view_module_version": "1.5.0",
            "_view_name": "HBoxView",
            "box_style": "",
            "children": [
              "IPY_MODEL_922a386b42f84d6f9cbae940542c57af",
              "IPY_MODEL_be36b58689e8479ea6a548c11ed65c9f",
              "IPY_MODEL_1c63c1d992c6417bb7b5ab7c0e29758c"
            ],
            "layout": "IPY_MODEL_10c0acc852224225a03a82c361feae14"
          }
        },
        "922a386b42f84d6f9cbae940542c57af": {
          "model_module": "@jupyter-widgets/controls",
          "model_name": "HTMLModel",
          "model_module_version": "1.5.0",
          "state": {
            "_dom_classes": [],
            "_model_module": "@jupyter-widgets/controls",
            "_model_module_version": "1.5.0",
            "_model_name": "HTMLModel",
            "_view_count": null,
            "_view_module": "@jupyter-widgets/controls",
            "_view_module_version": "1.5.0",
            "_view_name": "HTMLView",
            "description": "",
            "description_tooltip": null,
            "layout": "IPY_MODEL_da5caf9821bb4c82a62e47a5b4fcb6ba",
            "placeholder": "​",
            "style": "IPY_MODEL_7dedf5a1e26d4d059222d8f6a622fb33",
            "value": ""
          }
        },
        "be36b58689e8479ea6a548c11ed65c9f": {
          "model_module": "@jupyter-widgets/controls",
          "model_name": "FloatProgressModel",
          "model_module_version": "1.5.0",
          "state": {
            "_dom_classes": [],
            "_model_module": "@jupyter-widgets/controls",
            "_model_module_version": "1.5.0",
            "_model_name": "FloatProgressModel",
            "_view_count": null,
            "_view_module": "@jupyter-widgets/controls",
            "_view_module_version": "1.5.0",
            "_view_name": "ProgressView",
            "bar_style": "success",
            "description": "",
            "description_tooltip": null,
            "layout": "IPY_MODEL_7af0fff08cbe4129aef24ac1a465e27a",
            "max": 1648877,
            "min": 0,
            "orientation": "horizontal",
            "style": "IPY_MODEL_c716b39e510442ac8f190cc9e9327f2f",
            "value": 1648877
          }
        },
        "1c63c1d992c6417bb7b5ab7c0e29758c": {
          "model_module": "@jupyter-widgets/controls",
          "model_name": "HTMLModel",
          "model_module_version": "1.5.0",
          "state": {
            "_dom_classes": [],
            "_model_module": "@jupyter-widgets/controls",
            "_model_module_version": "1.5.0",
            "_model_name": "HTMLModel",
            "_view_count": null,
            "_view_module": "@jupyter-widgets/controls",
            "_view_module_version": "1.5.0",
            "_view_name": "HTMLView",
            "description": "",
            "description_tooltip": null,
            "layout": "IPY_MODEL_6cf3cc03887b435ba1ffa1b7722120a9",
            "placeholder": "​",
            "style": "IPY_MODEL_3db60eb563c544e8be1fd56a4ad9d83b",
            "value": " 1649664/? [00:00&lt;00:00, 30416973.57it/s]"
          }
        },
        "10c0acc852224225a03a82c361feae14": {
          "model_module": "@jupyter-widgets/base",
          "model_name": "LayoutModel",
          "model_module_version": "1.2.0",
          "state": {
            "_model_module": "@jupyter-widgets/base",
            "_model_module_version": "1.2.0",
            "_model_name": "LayoutModel",
            "_view_count": null,
            "_view_module": "@jupyter-widgets/base",
            "_view_module_version": "1.2.0",
            "_view_name": "LayoutView",
            "align_content": null,
            "align_items": null,
            "align_self": null,
            "border": null,
            "bottom": null,
            "display": null,
            "flex": null,
            "flex_flow": null,
            "grid_area": null,
            "grid_auto_columns": null,
            "grid_auto_flow": null,
            "grid_auto_rows": null,
            "grid_column": null,
            "grid_gap": null,
            "grid_row": null,
            "grid_template_areas": null,
            "grid_template_columns": null,
            "grid_template_rows": null,
            "height": null,
            "justify_content": null,
            "justify_items": null,
            "left": null,
            "margin": null,
            "max_height": null,
            "max_width": null,
            "min_height": null,
            "min_width": null,
            "object_fit": null,
            "object_position": null,
            "order": null,
            "overflow": null,
            "overflow_x": null,
            "overflow_y": null,
            "padding": null,
            "right": null,
            "top": null,
            "visibility": null,
            "width": null
          }
        },
        "da5caf9821bb4c82a62e47a5b4fcb6ba": {
          "model_module": "@jupyter-widgets/base",
          "model_name": "LayoutModel",
          "model_module_version": "1.2.0",
          "state": {
            "_model_module": "@jupyter-widgets/base",
            "_model_module_version": "1.2.0",
            "_model_name": "LayoutModel",
            "_view_count": null,
            "_view_module": "@jupyter-widgets/base",
            "_view_module_version": "1.2.0",
            "_view_name": "LayoutView",
            "align_content": null,
            "align_items": null,
            "align_self": null,
            "border": null,
            "bottom": null,
            "display": null,
            "flex": null,
            "flex_flow": null,
            "grid_area": null,
            "grid_auto_columns": null,
            "grid_auto_flow": null,
            "grid_auto_rows": null,
            "grid_column": null,
            "grid_gap": null,
            "grid_row": null,
            "grid_template_areas": null,
            "grid_template_columns": null,
            "grid_template_rows": null,
            "height": null,
            "justify_content": null,
            "justify_items": null,
            "left": null,
            "margin": null,
            "max_height": null,
            "max_width": null,
            "min_height": null,
            "min_width": null,
            "object_fit": null,
            "object_position": null,
            "order": null,
            "overflow": null,
            "overflow_x": null,
            "overflow_y": null,
            "padding": null,
            "right": null,
            "top": null,
            "visibility": null,
            "width": null
          }
        },
        "7dedf5a1e26d4d059222d8f6a622fb33": {
          "model_module": "@jupyter-widgets/controls",
          "model_name": "DescriptionStyleModel",
          "model_module_version": "1.5.0",
          "state": {
            "_model_module": "@jupyter-widgets/controls",
            "_model_module_version": "1.5.0",
            "_model_name": "DescriptionStyleModel",
            "_view_count": null,
            "_view_module": "@jupyter-widgets/base",
            "_view_module_version": "1.2.0",
            "_view_name": "StyleView",
            "description_width": ""
          }
        },
        "7af0fff08cbe4129aef24ac1a465e27a": {
          "model_module": "@jupyter-widgets/base",
          "model_name": "LayoutModel",
          "model_module_version": "1.2.0",
          "state": {
            "_model_module": "@jupyter-widgets/base",
            "_model_module_version": "1.2.0",
            "_model_name": "LayoutModel",
            "_view_count": null,
            "_view_module": "@jupyter-widgets/base",
            "_view_module_version": "1.2.0",
            "_view_name": "LayoutView",
            "align_content": null,
            "align_items": null,
            "align_self": null,
            "border": null,
            "bottom": null,
            "display": null,
            "flex": null,
            "flex_flow": null,
            "grid_area": null,
            "grid_auto_columns": null,
            "grid_auto_flow": null,
            "grid_auto_rows": null,
            "grid_column": null,
            "grid_gap": null,
            "grid_row": null,
            "grid_template_areas": null,
            "grid_template_columns": null,
            "grid_template_rows": null,
            "height": null,
            "justify_content": null,
            "justify_items": null,
            "left": null,
            "margin": null,
            "max_height": null,
            "max_width": null,
            "min_height": null,
            "min_width": null,
            "object_fit": null,
            "object_position": null,
            "order": null,
            "overflow": null,
            "overflow_x": null,
            "overflow_y": null,
            "padding": null,
            "right": null,
            "top": null,
            "visibility": null,
            "width": null
          }
        },
        "c716b39e510442ac8f190cc9e9327f2f": {
          "model_module": "@jupyter-widgets/controls",
          "model_name": "ProgressStyleModel",
          "model_module_version": "1.5.0",
          "state": {
            "_model_module": "@jupyter-widgets/controls",
            "_model_module_version": "1.5.0",
            "_model_name": "ProgressStyleModel",
            "_view_count": null,
            "_view_module": "@jupyter-widgets/base",
            "_view_module_version": "1.2.0",
            "_view_name": "StyleView",
            "bar_color": null,
            "description_width": ""
          }
        },
        "6cf3cc03887b435ba1ffa1b7722120a9": {
          "model_module": "@jupyter-widgets/base",
          "model_name": "LayoutModel",
          "model_module_version": "1.2.0",
          "state": {
            "_model_module": "@jupyter-widgets/base",
            "_model_module_version": "1.2.0",
            "_model_name": "LayoutModel",
            "_view_count": null,
            "_view_module": "@jupyter-widgets/base",
            "_view_module_version": "1.2.0",
            "_view_name": "LayoutView",
            "align_content": null,
            "align_items": null,
            "align_self": null,
            "border": null,
            "bottom": null,
            "display": null,
            "flex": null,
            "flex_flow": null,
            "grid_area": null,
            "grid_auto_columns": null,
            "grid_auto_flow": null,
            "grid_auto_rows": null,
            "grid_column": null,
            "grid_gap": null,
            "grid_row": null,
            "grid_template_areas": null,
            "grid_template_columns": null,
            "grid_template_rows": null,
            "height": null,
            "justify_content": null,
            "justify_items": null,
            "left": null,
            "margin": null,
            "max_height": null,
            "max_width": null,
            "min_height": null,
            "min_width": null,
            "object_fit": null,
            "object_position": null,
            "order": null,
            "overflow": null,
            "overflow_x": null,
            "overflow_y": null,
            "padding": null,
            "right": null,
            "top": null,
            "visibility": null,
            "width": null
          }
        },
        "3db60eb563c544e8be1fd56a4ad9d83b": {
          "model_module": "@jupyter-widgets/controls",
          "model_name": "DescriptionStyleModel",
          "model_module_version": "1.5.0",
          "state": {
            "_model_module": "@jupyter-widgets/controls",
            "_model_module_version": "1.5.0",
            "_model_name": "DescriptionStyleModel",
            "_view_count": null,
            "_view_module": "@jupyter-widgets/base",
            "_view_module_version": "1.2.0",
            "_view_name": "StyleView",
            "description_width": ""
          }
        },
        "39ee41a0885a467a9a420cd296733c0a": {
          "model_module": "@jupyter-widgets/controls",
          "model_name": "HBoxModel",
          "model_module_version": "1.5.0",
          "state": {
            "_dom_classes": [],
            "_model_module": "@jupyter-widgets/controls",
            "_model_module_version": "1.5.0",
            "_model_name": "HBoxModel",
            "_view_count": null,
            "_view_module": "@jupyter-widgets/controls",
            "_view_module_version": "1.5.0",
            "_view_name": "HBoxView",
            "box_style": "",
            "children": [
              "IPY_MODEL_034dcbbd3f9d4eaa90c7e1c0293938cf",
              "IPY_MODEL_5d443e2b6218494c91377e3a264e3a82",
              "IPY_MODEL_4fab56eb95f74c62b13e72c85fac4edb"
            ],
            "layout": "IPY_MODEL_e8499d23e8f349708ce22c4be070d452"
          }
        },
        "034dcbbd3f9d4eaa90c7e1c0293938cf": {
          "model_module": "@jupyter-widgets/controls",
          "model_name": "HTMLModel",
          "model_module_version": "1.5.0",
          "state": {
            "_dom_classes": [],
            "_model_module": "@jupyter-widgets/controls",
            "_model_module_version": "1.5.0",
            "_model_name": "HTMLModel",
            "_view_count": null,
            "_view_module": "@jupyter-widgets/controls",
            "_view_module_version": "1.5.0",
            "_view_name": "HTMLView",
            "description": "",
            "description_tooltip": null,
            "layout": "IPY_MODEL_c3f16765e66540709143f5c6c6017dff",
            "placeholder": "​",
            "style": "IPY_MODEL_4a111b66cd3b4669b2b4c6748bed2e9e",
            "value": ""
          }
        },
        "5d443e2b6218494c91377e3a264e3a82": {
          "model_module": "@jupyter-widgets/controls",
          "model_name": "FloatProgressModel",
          "model_module_version": "1.5.0",
          "state": {
            "_dom_classes": [],
            "_model_module": "@jupyter-widgets/controls",
            "_model_module_version": "1.5.0",
            "_model_name": "FloatProgressModel",
            "_view_count": null,
            "_view_module": "@jupyter-widgets/controls",
            "_view_module_version": "1.5.0",
            "_view_name": "ProgressView",
            "bar_style": "success",
            "description": "",
            "description_tooltip": null,
            "layout": "IPY_MODEL_ac7c8d0f772149108af46b69cf7a28db",
            "max": 4542,
            "min": 0,
            "orientation": "horizontal",
            "style": "IPY_MODEL_482b3f237ffc42c08dd0f400fc08440c",
            "value": 4542
          }
        },
        "4fab56eb95f74c62b13e72c85fac4edb": {
          "model_module": "@jupyter-widgets/controls",
          "model_name": "HTMLModel",
          "model_module_version": "1.5.0",
          "state": {
            "_dom_classes": [],
            "_model_module": "@jupyter-widgets/controls",
            "_model_module_version": "1.5.0",
            "_model_name": "HTMLModel",
            "_view_count": null,
            "_view_module": "@jupyter-widgets/controls",
            "_view_module_version": "1.5.0",
            "_view_name": "HTMLView",
            "description": "",
            "description_tooltip": null,
            "layout": "IPY_MODEL_a241294c88d945d2b546251a6d638794",
            "placeholder": "​",
            "style": "IPY_MODEL_c807fb95fd9644f79c8048e13bec6b6b",
            "value": " 5120/? [00:00&lt;00:00, 172282.46it/s]"
          }
        },
        "e8499d23e8f349708ce22c4be070d452": {
          "model_module": "@jupyter-widgets/base",
          "model_name": "LayoutModel",
          "model_module_version": "1.2.0",
          "state": {
            "_model_module": "@jupyter-widgets/base",
            "_model_module_version": "1.2.0",
            "_model_name": "LayoutModel",
            "_view_count": null,
            "_view_module": "@jupyter-widgets/base",
            "_view_module_version": "1.2.0",
            "_view_name": "LayoutView",
            "align_content": null,
            "align_items": null,
            "align_self": null,
            "border": null,
            "bottom": null,
            "display": null,
            "flex": null,
            "flex_flow": null,
            "grid_area": null,
            "grid_auto_columns": null,
            "grid_auto_flow": null,
            "grid_auto_rows": null,
            "grid_column": null,
            "grid_gap": null,
            "grid_row": null,
            "grid_template_areas": null,
            "grid_template_columns": null,
            "grid_template_rows": null,
            "height": null,
            "justify_content": null,
            "justify_items": null,
            "left": null,
            "margin": null,
            "max_height": null,
            "max_width": null,
            "min_height": null,
            "min_width": null,
            "object_fit": null,
            "object_position": null,
            "order": null,
            "overflow": null,
            "overflow_x": null,
            "overflow_y": null,
            "padding": null,
            "right": null,
            "top": null,
            "visibility": null,
            "width": null
          }
        },
        "c3f16765e66540709143f5c6c6017dff": {
          "model_module": "@jupyter-widgets/base",
          "model_name": "LayoutModel",
          "model_module_version": "1.2.0",
          "state": {
            "_model_module": "@jupyter-widgets/base",
            "_model_module_version": "1.2.0",
            "_model_name": "LayoutModel",
            "_view_count": null,
            "_view_module": "@jupyter-widgets/base",
            "_view_module_version": "1.2.0",
            "_view_name": "LayoutView",
            "align_content": null,
            "align_items": null,
            "align_self": null,
            "border": null,
            "bottom": null,
            "display": null,
            "flex": null,
            "flex_flow": null,
            "grid_area": null,
            "grid_auto_columns": null,
            "grid_auto_flow": null,
            "grid_auto_rows": null,
            "grid_column": null,
            "grid_gap": null,
            "grid_row": null,
            "grid_template_areas": null,
            "grid_template_columns": null,
            "grid_template_rows": null,
            "height": null,
            "justify_content": null,
            "justify_items": null,
            "left": null,
            "margin": null,
            "max_height": null,
            "max_width": null,
            "min_height": null,
            "min_width": null,
            "object_fit": null,
            "object_position": null,
            "order": null,
            "overflow": null,
            "overflow_x": null,
            "overflow_y": null,
            "padding": null,
            "right": null,
            "top": null,
            "visibility": null,
            "width": null
          }
        },
        "4a111b66cd3b4669b2b4c6748bed2e9e": {
          "model_module": "@jupyter-widgets/controls",
          "model_name": "DescriptionStyleModel",
          "model_module_version": "1.5.0",
          "state": {
            "_model_module": "@jupyter-widgets/controls",
            "_model_module_version": "1.5.0",
            "_model_name": "DescriptionStyleModel",
            "_view_count": null,
            "_view_module": "@jupyter-widgets/base",
            "_view_module_version": "1.2.0",
            "_view_name": "StyleView",
            "description_width": ""
          }
        },
        "ac7c8d0f772149108af46b69cf7a28db": {
          "model_module": "@jupyter-widgets/base",
          "model_name": "LayoutModel",
          "model_module_version": "1.2.0",
          "state": {
            "_model_module": "@jupyter-widgets/base",
            "_model_module_version": "1.2.0",
            "_model_name": "LayoutModel",
            "_view_count": null,
            "_view_module": "@jupyter-widgets/base",
            "_view_module_version": "1.2.0",
            "_view_name": "LayoutView",
            "align_content": null,
            "align_items": null,
            "align_self": null,
            "border": null,
            "bottom": null,
            "display": null,
            "flex": null,
            "flex_flow": null,
            "grid_area": null,
            "grid_auto_columns": null,
            "grid_auto_flow": null,
            "grid_auto_rows": null,
            "grid_column": null,
            "grid_gap": null,
            "grid_row": null,
            "grid_template_areas": null,
            "grid_template_columns": null,
            "grid_template_rows": null,
            "height": null,
            "justify_content": null,
            "justify_items": null,
            "left": null,
            "margin": null,
            "max_height": null,
            "max_width": null,
            "min_height": null,
            "min_width": null,
            "object_fit": null,
            "object_position": null,
            "order": null,
            "overflow": null,
            "overflow_x": null,
            "overflow_y": null,
            "padding": null,
            "right": null,
            "top": null,
            "visibility": null,
            "width": null
          }
        },
        "482b3f237ffc42c08dd0f400fc08440c": {
          "model_module": "@jupyter-widgets/controls",
          "model_name": "ProgressStyleModel",
          "model_module_version": "1.5.0",
          "state": {
            "_model_module": "@jupyter-widgets/controls",
            "_model_module_version": "1.5.0",
            "_model_name": "ProgressStyleModel",
            "_view_count": null,
            "_view_module": "@jupyter-widgets/base",
            "_view_module_version": "1.2.0",
            "_view_name": "StyleView",
            "bar_color": null,
            "description_width": ""
          }
        },
        "a241294c88d945d2b546251a6d638794": {
          "model_module": "@jupyter-widgets/base",
          "model_name": "LayoutModel",
          "model_module_version": "1.2.0",
          "state": {
            "_model_module": "@jupyter-widgets/base",
            "_model_module_version": "1.2.0",
            "_model_name": "LayoutModel",
            "_view_count": null,
            "_view_module": "@jupyter-widgets/base",
            "_view_module_version": "1.2.0",
            "_view_name": "LayoutView",
            "align_content": null,
            "align_items": null,
            "align_self": null,
            "border": null,
            "bottom": null,
            "display": null,
            "flex": null,
            "flex_flow": null,
            "grid_area": null,
            "grid_auto_columns": null,
            "grid_auto_flow": null,
            "grid_auto_rows": null,
            "grid_column": null,
            "grid_gap": null,
            "grid_row": null,
            "grid_template_areas": null,
            "grid_template_columns": null,
            "grid_template_rows": null,
            "height": null,
            "justify_content": null,
            "justify_items": null,
            "left": null,
            "margin": null,
            "max_height": null,
            "max_width": null,
            "min_height": null,
            "min_width": null,
            "object_fit": null,
            "object_position": null,
            "order": null,
            "overflow": null,
            "overflow_x": null,
            "overflow_y": null,
            "padding": null,
            "right": null,
            "top": null,
            "visibility": null,
            "width": null
          }
        },
        "c807fb95fd9644f79c8048e13bec6b6b": {
          "model_module": "@jupyter-widgets/controls",
          "model_name": "DescriptionStyleModel",
          "model_module_version": "1.5.0",
          "state": {
            "_model_module": "@jupyter-widgets/controls",
            "_model_module_version": "1.5.0",
            "_model_name": "DescriptionStyleModel",
            "_view_count": null,
            "_view_module": "@jupyter-widgets/base",
            "_view_module_version": "1.2.0",
            "_view_name": "StyleView",
            "description_width": ""
          }
        }
      }
    }
  },
  "cells": [
    {
      "cell_type": "markdown",
      "source": [
        "Part 1 CNN - Classification"
      ],
      "metadata": {
        "id": "dYVIW6Dcywfp"
      }
    },
    {
      "cell_type": "code",
      "source": [
        "import tensorflow as tf\n",
        "(x_train, y_train), (x_test, y_test) = tf.keras.datasets.mnist.load_data()"
      ],
      "metadata": {
        "colab": {
          "base_uri": "https://localhost:8080/"
        },
        "id": "mMrOavGdyuGQ",
        "outputId": "0b3153c3-1fff-4b2f-9ab2-2c99250f5616"
      },
      "execution_count": null,
      "outputs": [
        {
          "output_type": "stream",
          "name": "stdout",
          "text": [
            "Downloading data from https://storage.googleapis.com/tensorflow/tf-keras-datasets/mnist.npz\n",
            "11493376/11490434 [==============================] - 0s 0us/step\n",
            "11501568/11490434 [==============================] - 0s 0us/step\n"
          ]
        }
      ]
    },
    {
      "cell_type": "code",
      "source": [
        "import matplotlib.pyplot as plt\n",
        "\n",
        "image_index = 7777 # You may select anything up to 60,000\n",
        "print(y_train[image_index]) # The label is 8\n",
        "plt.imshow(x_train[image_index], cmap='Greys')\n"
      ],
      "metadata": {
        "colab": {
          "base_uri": "https://localhost:8080/",
          "height": 300
        },
        "id": "Lc5In5ASx6kw",
        "outputId": "022d27bc-aab1-42fc-e2b6-710c108446a1"
      },
      "execution_count": null,
      "outputs": [
        {
          "output_type": "stream",
          "name": "stdout",
          "text": [
            "8\n"
          ]
        },
        {
          "output_type": "execute_result",
          "data": {
            "text/plain": [
              "<matplotlib.image.AxesImage at 0x7f6fb4de7f10>"
            ]
          },
          "metadata": {},
          "execution_count": 2
        },
        {
          "output_type": "display_data",
          "data": {
            "text/plain": [
              "<Figure size 432x288 with 1 Axes>"
            ],
            "image/png": "[encoded data removed]"
          },
          "metadata": {
            "needs_background": "light"
          }
        }
      ]
    },
    {
      "cell_type": "code",
      "source": [
        "x_train.shape"
      ],
      "metadata": {
        "colab": {
          "base_uri": "https://localhost:8080/"
        },
        "id": "cTqXBwWhx6nR",
        "outputId": "7ab9fbaf-ff6e-43cb-fc08-cbf31bb3a30f"
      },
      "execution_count": null,
      "outputs": [
        {
          "output_type": "execute_result",
          "data": {
            "text/plain": [
              "(60000, 28, 28)"
            ]
          },
          "metadata": {},
          "execution_count": 3
        }
      ]
    },
    {
      "cell_type": "code",
      "source": [
        "# Reshaping the array to 4-dims so that it can work with the Keras API\n",
        "x_train = x_train.reshape(x_train.shape[0], 28, 28, 1)\n",
        "x_test = x_test.reshape(x_test.shape[0], 28, 28, 1)\n",
        "input_shape = (28, 28, 1)\n",
        "# Making sure that the values are float so that we can get decimal points after division\n",
        "x_train = x_train.astype('float32')\n",
        "x_test = x_test.astype('float32')\n",
        "# Normalizing the RGB codes by dividing it to the max RGB value.\n",
        "x_train /= 255\n",
        "x_test /= 255\n",
        "print('x_train shape:', x_train.shape)\n",
        "print('Number of images in x_train', x_train.shape[0])\n",
        "print('Number of images in x_test', x_test.shape[0])"
      ],
      "metadata": {
        "colab": {
          "base_uri": "https://localhost:8080/"
        },
        "id": "m5nSn7jPx6r6",
        "outputId": "17115d4e-3d6a-46de-b998-fcb4533f4363"
      },
      "execution_count": null,
      "outputs": [
        {
          "output_type": "stream",
          "name": "stdout",
          "text": [
            "x_train shape: (60000, 28, 28, 1)\n",
            "Number of images in x_train 60000\n",
            "Number of images in x_test 10000\n"
          ]
        }
      ]
    },
    {
      "cell_type": "code",
      "source": [
        "# Importing the required Keras modules containing model and layers\n",
        "from tensorflow.keras.models import Sequential\n",
        "from tensorflow.keras.layers import Dense, Conv2D, Dropout, Flatten, MaxPooling2D\n",
        "# Creating a Sequential Model and adding the layers\n",
        "model = Sequential()\n",
        "model.add(Conv2D(28, kernel_size=(3,3), input_shape=input_shape))\n",
        "model.add(MaxPooling2D(pool_size=(2, 2)))\n",
        "model.add(Flatten()) # Flattening the 2D arrays for fully connected layers\n",
        "model.add(Dense(128, activation=tf.nn.relu))\n",
        "model.add(Dense(256, activation=tf.nn.relu))\n",
        "model.add(Dropout(0.2))\n",
        "model.add(Dense(10,activation=tf.nn.softmax))"
      ],
      "metadata": {
        "id": "LDdSnZjSx6uL"
      },
      "execution_count": null,
      "outputs": []
    },
    {
      "cell_type": "code",
      "source": [
        "model.summary()"
      ],
      "metadata": {
        "colab": {
          "base_uri": "https://localhost:8080/"
        },
        "id": "wL9T2iFb74_V",
        "outputId": "bcf359cd-0530-4122-99f3-6e0f858f3f91"
      },
      "execution_count": null,
      "outputs": [
        {
          "output_type": "stream",
          "name": "stdout",
          "text": [
            "Model: \"sequential\"\n",
            "_________________________________________________________________\n",
            " Layer (type)                Output Shape              Param #   \n",
            "=================================================================\n",
            " conv2d (Conv2D)             (None, 26, 26, 28)        280       \n",
            "                                                                 \n",
            " max_pooling2d (MaxPooling2D  (None, 13, 13, 28)       0         \n",
            " )                                                               \n",
            "                                                                 \n",
            " flatten (Flatten)           (None, 4732)              0         \n",
            "                                                                 \n",
            " dense (Dense)               (None, 128)               605824    \n",
            "                                                                 \n",
            " dense_1 (Dense)             (None, 256)               33024     \n",
            "                                                                 \n",
            " dropout (Dropout)           (None, 256)               0         \n",
            "                                                                 \n",
            " dense_2 (Dense)             (None, 10)                2570      \n",
            "                                                                 \n",
            "=================================================================\n",
            "Total params: 641,698\n",
            "Trainable params: 641,698\n",
            "Non-trainable params: 0\n",
            "_________________________________________________________________\n"
          ]
        }
      ]
    },
    {
      "cell_type": "code",
      "source": [
        "optimizer = tf.keras.optimizers.Adam(learning_rate=0.0001)\n",
        "\n",
        "model.compile(optimizer=optimizer, \n",
        "              loss='sparse_categorical_crossentropy', \n",
        "              metrics=['accuracy'])\n",
        "\n",
        "model.fit(x=x_train,y=y_train, epochs=25)"
      ],
      "metadata": {
        "colab": {
          "base_uri": "https://localhost:8080/"
        },
        "id": "8v4zPReSx6wp",
        "outputId": "287e4321-a35c-4bf4-f90e-a5c122927606"
      },
      "execution_count": null,
      "outputs": [
        {
          "output_type": "stream",
          "name": "stdout",
          "text": [
            "Epoch 1/25\n",
            "1875/1875 [==============================] - 9s 5ms/step - loss: 0.4015 - accuracy: 0.8882\n",
            "Epoch 2/25\n",
            "1875/1875 [==============================] - 8s 5ms/step - loss: 0.1644 - accuracy: 0.9508\n",
            "Epoch 3/25\n",
            "1875/1875 [==============================] - 9s 5ms/step - loss: 0.1157 - accuracy: 0.9657\n",
            "Epoch 4/25\n",
            "1875/1875 [==============================] - 9s 5ms/step - loss: 0.0878 - accuracy: 0.9735\n",
            "Epoch 5/25\n",
            "1875/1875 [==============================] - 9s 5ms/step - loss: 0.0712 - accuracy: 0.9783\n",
            "Epoch 6/25\n",
            "1875/1875 [==============================] - 9s 5ms/step - loss: 0.0588 - accuracy: 0.9819\n",
            "Epoch 7/25\n",
            "1875/1875 [==============================] - 9s 5ms/step - loss: 0.0477 - accuracy: 0.9856\n",
            "Epoch 8/25\n",
            "1875/1875 [==============================] - 9s 5ms/step - loss: 0.0414 - accuracy: 0.9875\n",
            "Epoch 9/25\n",
            "1875/1875 [==============================] - 8s 5ms/step - loss: 0.0362 - accuracy: 0.9888\n",
            "Epoch 10/25\n",
            "1875/1875 [==============================] - 8s 5ms/step - loss: 0.0298 - accuracy: 0.9911\n",
            "Epoch 11/25\n",
            "1875/1875 [==============================] - 8s 4ms/step - loss: 0.0263 - accuracy: 0.9923\n",
            "Epoch 12/25\n",
            "1875/1875 [==============================] - 9s 5ms/step - loss: 0.0234 - accuracy: 0.9928\n",
            "Epoch 13/25\n",
            "1875/1875 [==============================] - 8s 5ms/step - loss: 0.0212 - accuracy: 0.9938\n",
            "Epoch 14/25\n",
            "1875/1875 [==============================] - 8s 5ms/step - loss: 0.0183 - accuracy: 0.9946\n",
            "Epoch 15/25\n",
            "1875/1875 [==============================] - 9s 5ms/step - loss: 0.0152 - accuracy: 0.9951\n",
            "Epoch 16/25\n",
            "1875/1875 [==============================] - 9s 5ms/step - loss: 0.0135 - accuracy: 0.9959\n",
            "Epoch 17/25\n",
            "1875/1875 [==============================] - 9s 5ms/step - loss: 0.0117 - accuracy: 0.9963\n",
            "Epoch 18/25\n",
            "1875/1875 [==============================] - 9s 5ms/step - loss: 0.0106 - accuracy: 0.9968\n",
            "Epoch 19/25\n",
            "1875/1875 [==============================] - 9s 5ms/step - loss: 0.0097 - accuracy: 0.9971\n",
            "Epoch 20/25\n",
            "1875/1875 [==============================] - 9s 5ms/step - loss: 0.0084 - accuracy: 0.9974\n",
            "Epoch 21/25\n",
            "1875/1875 [==============================] - 9s 5ms/step - loss: 0.0066 - accuracy: 0.9983\n",
            "Epoch 22/25\n",
            "1875/1875 [==============================] - 9s 5ms/step - loss: 0.0069 - accuracy: 0.9979\n",
            "Epoch 23/25\n",
            "1875/1875 [==============================] - 9s 5ms/step - loss: 0.0058 - accuracy: 0.9984\n",
            "Epoch 24/25\n",
            "1875/1875 [==============================] - 9s 5ms/step - loss: 0.0053 - accuracy: 0.9987\n",
            "Epoch 25/25\n",
            "1875/1875 [==============================] - 9s 5ms/step - loss: 0.0049 - accuracy: 0.9984\n"
          ]
        },
        {
          "output_type": "execute_result",
          "data": {
            "text/plain": [
              "<keras.callbacks.History at 0x7f05f7c813d0>"
            ]
          },
          "metadata": {},
          "execution_count": 15
        }
      ]
    },
    {
      "cell_type": "code",
      "source": [
        "model.evaluate(x_test, y_test)"
      ],
      "metadata": {
        "colab": {
          "base_uri": "https://localhost:8080/"
        },
        "id": "n_4EaGJHyVyC",
        "outputId": "689e8fdb-0059-42a0-f05d-01f8b174caca"
      },
      "execution_count": null,
      "outputs": [
        {
          "output_type": "stream",
          "name": "stdout",
          "text": [
            "313/313 [==============================] - 1s 3ms/step - loss: 0.0546 - accuracy: 0.9861\n"
          ]
        },
        {
          "output_type": "execute_result",
          "data": {
            "text/plain": [
              "[0.05462750419974327, 0.9861000180244446]"
            ]
          },
          "metadata": {},
          "execution_count": 16
        }
      ]
    },
    {
      "cell_type": "code",
      "source": [
        "image_index = 4444\n",
        "plt.imshow(x_test[image_index].reshape(28, 28),cmap='Greys')\n",
        "pred = model.predict(x_test[image_index].reshape(1, 28, 28, 1))\n",
        "print(pred.argmax())"
      ],
      "metadata": {
        "colab": {
          "base_uri": "https://localhost:8080/",
          "height": 282
        },
        "id": "X3r-4mxGyV6w",
        "outputId": "6893c216-5ebf-4bb2-8212-6bb66c9ab7c3"
      },
      "execution_count": null,
      "outputs": [
        {
          "output_type": "stream",
          "name": "stdout",
          "text": [
            "9\n"
          ]
        },
        {
          "output_type": "display_data",
          "data": {
            "text/plain": [
              "<Figure size 432x288 with 1 Axes>"
            ],
            "image/png": "[encoded data removed]"
          },
          "metadata": {
            "needs_background": "light"
          }
        }
      ]
    },
    {
      "cell_type": "code",
      "source": [
        "input1 = x_test[0]\n",
        "input2 = x_test[1]\n",
        "pred1 = model.predict(input1.reshape(1, 28, 28, 1))\n",
        "pred2 = model.predict(input2.reshape(1, 28, 28, 1))\n"
      ],
      "metadata": {
        "id": "-nZzVT6RRewn"
      },
      "execution_count": null,
      "outputs": []
    },
    {
      "cell_type": "code",
      "source": [
        "number1, number2 = pred1.argmax(), pred2.argmax()"
      ],
      "metadata": {
        "id": "9GAp7wvNSFgR"
      },
      "execution_count": null,
      "outputs": []
    },
    {
      "cell_type": "code",
      "source": [
        "sum = number1 + number2"
      ],
      "metadata": {
        "id": "S32zKOTVReys"
      },
      "execution_count": null,
      "outputs": []
    },
    {
      "cell_type": "code",
      "source": [
        "def get_digit_index(digit):\n",
        "  import random\n",
        "  ind = list()\n",
        "  for i in enumerate(y_test[0:200]):\n",
        "\n",
        "    if i[1] == digit:\n",
        "      ind.append(i[0])\n",
        "  choice = random.choice(ind)\n",
        "  return choice\n",
        "\n",
        "\n",
        "def mnist_digit_print(index1, index2):\n",
        "  fig = plt.figure(figsize=(1,2))\n",
        "  plt.subplot(1,2,1)\n",
        "  plt.imshow(x_test[index1].reshape(28, 28),cmap='Greys')\n",
        "  plt.axis('off')\n",
        "  plt.subplot(1,2,2)\n",
        "  plt.imshow(x_test[index2].reshape(28, 28),cmap='Greys')\n",
        "  plt.axis('off');\n",
        "\n",
        "\n",
        "def digit2mnist(sum):\n",
        "\n",
        "  if sum <= 9:\n",
        "    index1 = get_digit_index(0)\n",
        "    index2 = get_digit_index(sum)\n",
        "\n",
        "    mnist_digit_print(index1,index2)\n",
        "\n",
        "  if sum > 9: \n",
        "    index1 = get_digit_index(1)\n",
        "    index2 = get_digit_index(sum-10)\n",
        "\n",
        "    mnist_digit_print(index1,index2)\n"
      ],
      "metadata": {
        "id": "pUpi3L1dMWNZ"
      },
      "execution_count": null,
      "outputs": []
    },
    {
      "cell_type": "code",
      "source": [
        "def mnist_sum(classification_model, input1=x_test[0], input2=x_test[1]):\n",
        "  pred1 = classification_model.predict(input1.reshape(1, 28, 28, 1))\n",
        "  pred2 = classification_model.predict(input2.reshape(1, 28, 28, 1))\n",
        "\n",
        "  number1, number2 = pred1.argmax(), pred2.argmax()\n",
        "\n",
        "  sum = number1 + number2\n",
        "\n",
        "  digit2mnist(sum)\n"
      ],
      "metadata": {
        "id": "WSdltKtyIsK5"
      },
      "execution_count": null,
      "outputs": []
    },
    {
      "cell_type": "code",
      "source": [
        "mnist_sum(model,input1=x_test[100], input2=x_test[20])"
      ],
      "metadata": {
        "colab": {
          "base_uri": "https://localhost:8080/",
          "height": 56
        },
        "id": "qpyFxxkEW9iJ",
        "outputId": "926ebffd-098c-4b74-c327-7b41ca499eeb"
      },
      "execution_count": null,
      "outputs": [
        {
          "output_type": "display_data",
          "data": {
            "text/plain": [
              "<Figure size 72x144 with 2 Axes>"
            ],
            "image/png": "[encoded data removed]"
          },
          "metadata": {
            "needs_background": "light"
          }
        }
      ]
    },
    {
      "cell_type": "code",
      "source": [
        "mnist_digit_print(index1=100, index2=20)"
      ],
      "metadata": {
        "colab": {
          "base_uri": "https://localhost:8080/",
          "height": 56
        },
        "id": "ag0Ojg_xW9mw",
        "outputId": "0f0662f8-658b-41f6-f466-9825cece199d"
      },
      "execution_count": null,
      "outputs": [
        {
          "output_type": "display_data",
          "data": {
            "text/plain": [
              "<Figure size 72x144 with 2 Axes>"
            ],
            "image/png": "[encoded data removed]"
          },
          "metadata": {
            "needs_background": "light"
          }
        }
      ]
    },
    {
      "cell_type": "code",
      "source": [
        ""
      ],
      "metadata": {
        "id": "62oGx1ezW9pt"
      },
      "execution_count": null,
      "outputs": []
    },
    {
      "cell_type": "code",
      "source": [
        "import random\n",
        "ind = list()\n",
        "for i in enumerate(y_train[0:50]):\n",
        "  \n",
        "  if i[1] == sum:\n",
        "    ind.append(i[0])\n",
        "\n",
        "    #print(i)\n",
        "\n",
        "choice = random.choice(ind)\n",
        "#print(choice)\n",
        "\n",
        "\n",
        "# 2 Fälle: \n",
        "# sum <=9, dann ist die erste Ziffer 0\n",
        "# sum >9 , dann muss die Summe in ihre Bestandteile gesplittet werden.\n",
        "\n",
        "\n",
        "fig = plt.figure(figsize=(1,2))\n",
        "plt.subplot(1,2,1)\n",
        "plt.imshow(x_train[choice].reshape(28, 28),cmap='Greys')\n",
        "plt.axis('off')\n",
        "plt.subplot(1,2,2)\n",
        "plt.imshow(x_train[choice].reshape(28, 28),cmap='Greys')\n",
        "plt.axis('off');"
      ],
      "metadata": {
        "id": "jcdzFK4eW9rm",
        "colab": {
          "base_uri": "https://localhost:8080/",
          "height": 56
        },
        "outputId": "3a3871ad-3713-4b03-e9c0-7b390fb3e9a8"
      },
      "execution_count": null,
      "outputs": [
        {
          "output_type": "display_data",
          "data": {
            "text/plain": [
              "<Figure size 72x144 with 2 Axes>"
            ],
            "image/png": "[encoded data removed]"
          },
          "metadata": {
            "needs_background": "light"
          }
        }
      ]
    },
    {
      "cell_type": "code",
      "source": [
        "type(model)"
      ],
      "metadata": {
        "id": "0qfvlXiaW9tu",
        "colab": {
          "base_uri": "https://localhost:8080/"
        },
        "outputId": "bec15d03-9875-4476-e051-89d347da24bd"
      },
      "execution_count": null,
      "outputs": [
        {
          "output_type": "execute_result",
          "data": {
            "text/plain": [
              "keras.engine.sequential.Sequential"
            ]
          },
          "metadata": {},
          "execution_count": 178
        }
      ]
    },
    {
      "cell_type": "code",
      "source": [
        "PATH='/content/drive/MyDrive/DeepLearning/CNN_Classifier'\n",
        "model.save(PATH)"
      ],
      "metadata": {
        "colab": {
          "base_uri": "https://localhost:8080/"
        },
        "id": "Smk-o8lrhbiR",
        "outputId": "a60cd2fa-667c-43ae-b90d-51cf9989c30e"
      },
      "execution_count": null,
      "outputs": [
        {
          "output_type": "stream",
          "name": "stdout",
          "text": [
            "INFO:tensorflow:Assets written to: /content/drive/MyDrive/DeepLearning/CNN_Classifier/assets\n"
          ]
        }
      ]
    },
    {
      "cell_type": "code",
      "source": [
        "PATH='/content/drive/MyDrive/DeepLearning/CNN_Classifier'\n",
        "CNN = tf.keras.models.load_model(PATH)"
      ],
      "metadata": {
        "id": "wFrwPUWUhvXu"
      },
      "execution_count": null,
      "outputs": []
    },
    {
      "cell_type": "markdown",
      "source": [
        "**Part 2: Conditional StyleGAN**"
      ],
      "metadata": {
        "id": "_Hfdhfnz-iT1"
      }
    },
    {
      "cell_type": "code",
      "source": [
        "device = torch.device(\"cuda\" if torch.cuda.is_available() else \"cpu\")\n",
        "print(device)"
      ],
      "metadata": {
        "colab": {
          "base_uri": "https://localhost:8080/"
        },
        "id": "-YQc9Vez_YhM",
        "outputId": "f5d9bb1b-5611-4258-9493-084753a62439"
      },
      "execution_count": null,
      "outputs": [
        {
          "output_type": "stream",
          "name": "stdout",
          "text": [
            "cuda\n"
          ]
        }
      ]
    },
    {
      "cell_type": "code",
      "source": [
        "import torch\n",
        "from torchvision import transforms, datasets\n",
        "import torch.nn as nn\n",
        "from torch import optim as optim"
      ],
      "metadata": {
        "id": "sq3Y5mb_-mgx"
      },
      "execution_count": null,
      "outputs": []
    },
    {
      "cell_type": "code",
      "source": [
        "training_parameters = {\n",
        "    \"n_epochs\": 120,\n",
        "    \"batch_size\": 100,\n",
        "}\n",
        "data_loader = torch.utils.data.DataLoader(\n",
        "  \n",
        "  datasets.MNIST('./', train=True, download=True,\n",
        "                             transform=transforms.Compose([\n",
        "                               transforms.ToTensor(),\n",
        "                               transforms.Normalize(\n",
        "                                 (0.5,), (0.5,))\n",
        "                             ])),\n",
        "  batch_size=training_parameters[\"batch_size\"], shuffle=True)"
      ],
      "metadata": {
        "id": "PMZAs4-D-7b-",
        "colab": {
          "base_uri": "https://localhost:8080/",
          "height": 423,
          "referenced_widgets": [
            "e1ffd2d2e5d343339e949cf06e84b768",
            "4624dfd9d96e43258eb605c5a5ae87e2",
            "85eb1f497b1643dd92e46817c68c24c4",
            "eeb5c13e2c1c43088291238763cce9bc",
            "09334defa0454f349d4ac69388c08a5e",
            "ac26888f5acf4ffcb803615fa1b79adf",
            "c598603cffd24a9d864b0ad0d54e6a8a",
            "7b0e2b7d7812423fa25f54ee5902b5e2",
            "00f3b9302c60440aabb95924265d9cb5",
            "d29ded7853464824a061a9f5717c162a",
            "af7f8faaf1d34d089909f6a51c30d6cd",
            "75a612d1a4cb423d85d35ddb66478ba9",
            "7a48de27971e4484be5768657da77a5d",
            "77a2165b4c204dbba91bea7e53e02d69",
            "8ab3680a964b41faaf0e8f486bd79d9b",
            "5a392d7f9b2b461d86700fb655a564f6",
            "59b63e7cf6794ba9aa6af62c7b6f7962",
            "c54b261723e74504966a2a8c6ddcf4b6",
            "87c2003ccf414fa08164ac967d3641fa",
            "7c994eda071a4d0abe553bd06e7aaa29",
            "5a42f2aba86643e6a789f84f71a7b51b",
            "bd6f046f0e1245e69acead57abf87e64",
            "38d5aff4c56f47079cd5a74a7b56f59e",
            "922a386b42f84d6f9cbae940542c57af",
            "be36b58689e8479ea6a548c11ed65c9f",
            "1c63c1d992c6417bb7b5ab7c0e29758c",
            "10c0acc852224225a03a82c361feae14",
            "da5caf9821bb4c82a62e47a5b4fcb6ba",
            "7dedf5a1e26d4d059222d8f6a622fb33",
            "7af0fff08cbe4129aef24ac1a465e27a",
            "c716b39e510442ac8f190cc9e9327f2f",
            "6cf3cc03887b435ba1ffa1b7722120a9",
            "3db60eb563c544e8be1fd56a4ad9d83b",
            "39ee41a0885a467a9a420cd296733c0a",
            "034dcbbd3f9d4eaa90c7e1c0293938cf",
            "5d443e2b6218494c91377e3a264e3a82",
            "4fab56eb95f74c62b13e72c85fac4edb",
            "e8499d23e8f349708ce22c4be070d452",
            "c3f16765e66540709143f5c6c6017dff",
            "4a111b66cd3b4669b2b4c6748bed2e9e",
            "ac7c8d0f772149108af46b69cf7a28db",
            "482b3f237ffc42c08dd0f400fc08440c",
            "a241294c88d945d2b546251a6d638794",
            "c807fb95fd9644f79c8048e13bec6b6b"
          ]
        },
        "outputId": "e7251996-2d72-481b-c0a4-9b0dce65bc73"
      },
      "execution_count": null,
      "outputs": [
        {
          "output_type": "stream",
          "name": "stdout",
          "text": [
            "Downloading http://yann.lecun.com/exdb/mnist/train-images-idx3-ubyte.gz\n",
            "Downloading http://yann.lecun.com/exdb/mnist/train-images-idx3-ubyte.gz to ./MNIST/raw/train-images-idx3-ubyte.gz\n"
          ]
        },
        {
          "output_type": "display_data",
          "data": {
            "text/plain": [
              "  0%|          | 0/9912422 [00:00<?, ?it/s]"
            ],
            "application/vnd.jupyter.widget-view+json": {
              "version_major": 2,
              "version_minor": 0,
              "model_id": "e1ffd2d2e5d343339e949cf06e84b768"
            }
          },
          "metadata": {}
        },
        {
          "output_type": "stream",
          "name": "stdout",
          "text": [
            "Extracting ./MNIST/raw/train-images-idx3-ubyte.gz to ./MNIST/raw\n",
            "\n",
            "Downloading http://yann.lecun.com/exdb/mnist/train-labels-idx1-ubyte.gz\n",
            "Downloading http://yann.lecun.com/exdb/mnist/train-labels-idx1-ubyte.gz to ./MNIST/raw/train-labels-idx1-ubyte.gz\n"
          ]
        },
        {
          "output_type": "display_data",
          "data": {
            "text/plain": [
              "  0%|          | 0/28881 [00:00<?, ?it/s]"
            ],
            "application/vnd.jupyter.widget-view+json": {
              "version_major": 2,
              "version_minor": 0,
              "model_id": "75a612d1a4cb423d85d35ddb66478ba9"
            }
          },
          "metadata": {}
        },
        {
          "output_type": "stream",
          "name": "stdout",
          "text": [
            "Extracting ./MNIST/raw/train-labels-idx1-ubyte.gz to ./MNIST/raw\n",
            "\n",
            "Downloading http://yann.lecun.com/exdb/mnist/t10k-images-idx3-ubyte.gz\n",
            "Downloading http://yann.lecun.com/exdb/mnist/t10k-images-idx3-ubyte.gz to ./MNIST/raw/t10k-images-idx3-ubyte.gz\n"
          ]
        },
        {
          "output_type": "display_data",
          "data": {
            "text/plain": [
              "  0%|          | 0/1648877 [00:00<?, ?it/s]"
            ],
            "application/vnd.jupyter.widget-view+json": {
              "version_major": 2,
              "version_minor": 0,
              "model_id": "38d5aff4c56f47079cd5a74a7b56f59e"
            }
          },
          "metadata": {}
        },
        {
          "output_type": "stream",
          "name": "stdout",
          "text": [
            "Extracting ./MNIST/raw/t10k-images-idx3-ubyte.gz to ./MNIST/raw\n",
            "\n",
            "Downloading http://yann.lecun.com/exdb/mnist/t10k-labels-idx1-ubyte.gz\n",
            "Downloading http://yann.lecun.com/exdb/mnist/t10k-labels-idx1-ubyte.gz to ./MNIST/raw/t10k-labels-idx1-ubyte.gz\n"
          ]
        },
        {
          "output_type": "display_data",
          "data": {
            "text/plain": [
              "  0%|          | 0/4542 [00:00<?, ?it/s]"
            ],
            "application/vnd.jupyter.widget-view+json": {
              "version_major": 2,
              "version_minor": 0,
              "model_id": "39ee41a0885a467a9a420cd296733c0a"
            }
          },
          "metadata": {}
        },
        {
          "output_type": "stream",
          "name": "stdout",
          "text": [
            "Extracting ./MNIST/raw/t10k-labels-idx1-ubyte.gz to ./MNIST/raw\n",
            "\n"
          ]
        }
      ]
    },
    {
      "cell_type": "code",
      "source": [
        "num_batches = len(data_loader)\n",
        "print(\"Number of batches: \",num_batches)"
      ],
      "metadata": {
        "colab": {
          "base_uri": "https://localhost:8080/"
        },
        "id": "84IdXqWH_FiN",
        "outputId": "041da665-f7bc-4b3d-fe2a-efafaac6e5bf"
      },
      "execution_count": null,
      "outputs": [
        {
          "output_type": "stream",
          "name": "stdout",
          "text": [
            "Number of batches:  600\n"
          ]
        }
      ]
    },
    {
      "cell_type": "code",
      "source": [
        "%matplotlib inline \n",
        "from matplotlib import pyplot as plt\n",
        "\n",
        "for x,_ in data_loader:\n",
        "    plt.imshow(x.numpy()[0][0], cmap='gray')\n",
        "    break"
      ],
      "metadata": {
        "colab": {
          "base_uri": "https://localhost:8080/",
          "height": 265
        },
        "id": "n1RrOyEe_Foa",
        "outputId": "c8799afb-8574-4b12-d660-dbebc26373d2"
      },
      "execution_count": null,
      "outputs": [
        {
          "output_type": "display_data",
          "data": {
            "text/plain": [
              "<Figure size 432x288 with 1 Axes>"
            ],
            "image/png": "[encoded data removed]"
          },
          "metadata": {
            "needs_background": "light"
          }
        }
      ]
    },
    {
      "cell_type": "code",
      "source": [
        "class GeneratorModel(nn.Module):\n",
        "    def __init__(self):\n",
        "        super(GeneratorModel, self).__init__()\n",
        "        input_dim = 100 + 10\n",
        "        output_dim = 784\n",
        "        self.label_embedding = nn.Embedding(10, 10)\n",
        "        \n",
        "        self.hidden_layer1 = nn.Sequential(\n",
        "            nn.Linear(input_dim, 256),\n",
        "            nn.LeakyReLU(0.2)\n",
        "        )\n",
        "\n",
        "        self.hidden_layer2 = nn.Sequential(\n",
        "            nn.Linear(256, 512),\n",
        "            nn.LeakyReLU(0.2)\n",
        "        )\n",
        "\n",
        "        self.hidden_layer3 = nn.Sequential(\n",
        "            nn.Linear(512, 1024),\n",
        "            nn.LeakyReLU(0.2)\n",
        "        )\n",
        "\n",
        "        self.hidden_layer4 = nn.Sequential(\n",
        "            nn.Linear(1024, output_dim),\n",
        "            nn.Tanh()\n",
        "        )\n",
        "    \n",
        "    def forward(self, x, labels):\n",
        "        c = self.label_embedding(labels)\n",
        "        x = torch.cat([x,c], 1)\n",
        "        output = self.hidden_layer1(x)\n",
        "        output = self.hidden_layer2(output)\n",
        "        output = self.hidden_layer3(output)\n",
        "        output = self.hidden_layer4(output)\n",
        "        return output.to(device)\n",
        "\n",
        "class DiscriminatorModel(nn.Module):\n",
        "    def __init__(self):\n",
        "        super(DiscriminatorModel, self).__init__()\n",
        "        input_dim = 784 + 10\n",
        "        output_dim = 1\n",
        "        self.label_embedding = nn.Embedding(10, 10)\n",
        "\n",
        "        self.hidden_layer1 = nn.Sequential(\n",
        "            nn.Linear(input_dim, 1024),\n",
        "            nn.LeakyReLU(0.2),\n",
        "            nn.Dropout(0.3)\n",
        "        )\n",
        "\n",
        "        self.hidden_layer2 = nn.Sequential(\n",
        "            nn.Linear(1024, 512),\n",
        "            nn.LeakyReLU(0.2),\n",
        "            nn.Dropout(0.3)\n",
        "        )\n",
        "\n",
        "        self.hidden_layer3 = nn.Sequential(\n",
        "            nn.Linear(512, 256),\n",
        "            nn.LeakyReLU(0.2),\n",
        "            nn.Dropout(0.3)\n",
        "        )\n",
        "\n",
        "        self.hidden_layer4 = nn.Sequential(\n",
        "            nn.Linear(256, output_dim),\n",
        "            nn.Sigmoid()\n",
        "        )\n",
        "\n",
        "    def forward(self, x, labels):\n",
        "        c = self.label_embedding(labels)\n",
        "        x = torch.cat([x, c], 1)\n",
        "        output = self.hidden_layer1(x)\n",
        "        output = self.hidden_layer2(output)\n",
        "        output = self.hidden_layer3(output)\n",
        "        output = self.hidden_layer4(output)\n",
        "\n",
        "        return output.to(device)\n",
        "\n",
        "discriminator = DiscriminatorModel()\n",
        "generator = GeneratorModel()\n",
        "discriminator.to(device)\n",
        "generator.to(device)"
      ],
      "metadata": {
        "colab": {
          "base_uri": "https://localhost:8080/"
        },
        "id": "SKm9W--s_Fq6",
        "outputId": "92015a44-f27a-4f4c-8fcf-fb7b4c810106"
      },
      "execution_count": null,
      "outputs": [
        {
          "output_type": "execute_result",
          "data": {
            "text/plain": [
              "GeneratorModel(\n",
              "  (label_embedding): Embedding(10, 10)\n",
              "  (hidden_layer1): Sequential(\n",
              "    (0): Linear(in_features=110, out_features=256, bias=True)\n",
              "    (1): LeakyReLU(negative_slope=0.2)\n",
              "  )\n",
              "  (hidden_layer2): Sequential(\n",
              "    (0): Linear(in_features=256, out_features=512, bias=True)\n",
              "    (1): LeakyReLU(negative_slope=0.2)\n",
              "  )\n",
              "  (hidden_layer3): Sequential(\n",
              "    (0): Linear(in_features=512, out_features=1024, bias=True)\n",
              "    (1): LeakyReLU(negative_slope=0.2)\n",
              "  )\n",
              "  (hidden_layer4): Sequential(\n",
              "    (0): Linear(in_features=1024, out_features=784, bias=True)\n",
              "    (1): Tanh()\n",
              "  )\n",
              ")"
            ]
          },
          "metadata": {},
          "execution_count": 15
        }
      ]
    },
    {
      "cell_type": "code",
      "source": [
        "discriminator_optimizer = optim.Adam(discriminator.parameters(), lr=0.0002)\n",
        "generator_optimizer = optim.Adam(generator.parameters(), lr=0.0002)\n",
        "\n",
        "loss = nn.BCELoss()"
      ],
      "metadata": {
        "id": "QcKxDSFe_FtR"
      },
      "execution_count": null,
      "outputs": []
    },
    {
      "cell_type": "code",
      "source": [
        "torch.ones(batch_size, dtype = torch.long)"
      ],
      "metadata": {
        "colab": {
          "base_uri": "https://localhost:8080/",
          "height": 165
        },
        "id": "nx-xod1R_Fvp",
        "outputId": "662f28e4-986c-4a4a-92a5-32fb86386657"
      },
      "execution_count": null,
      "outputs": [
        {
          "output_type": "error",
          "ename": "NameError",
          "evalue": "ignored",
          "traceback": [
            "\u001b[0;31m---------------------------------------------------------------------------\u001b[0m",
            "\u001b[0;31mNameError\u001b[0m                                 Traceback (most recent call last)",
            "\u001b[0;32m<ipython-input-9-fc8a2a07f596>\u001b[0m in \u001b[0;36m<module>\u001b[0;34m()\u001b[0m\n\u001b[0;32m----> 1\u001b[0;31m \u001b[0mtorch\u001b[0m\u001b[0;34m.\u001b[0m\u001b[0mones\u001b[0m\u001b[0;34m(\u001b[0m\u001b[0mbatch_size\u001b[0m\u001b[0;34m,\u001b[0m \u001b[0mdtype\u001b[0m \u001b[0;34m=\u001b[0m \u001b[0mtorch\u001b[0m\u001b[0;34m.\u001b[0m\u001b[0mlong\u001b[0m\u001b[0;34m)\u001b[0m\u001b[0;34m\u001b[0m\u001b[0;34m\u001b[0m\u001b[0m\n\u001b[0m",
            "\u001b[0;31mNameError\u001b[0m: name 'batch_size' is not defined"
          ]
        }
      ]
    },
    {
      "cell_type": "code",
      "source": [
        "n_epochs = training_parameters[\"n_epochs\"]\n",
        "batch_size = training_parameters[\"batch_size\"]\n",
        "\n",
        "for epoch_idx in range(n_epochs):\n",
        "    G_loss = []\n",
        "    D_loss = []\n",
        "    for batch_idx, data_input in enumerate(data_loader):\n",
        "        \n",
        "        \n",
        "        noise = torch.randn(batch_size,100).to(device)\n",
        "        fake_labels = torch.randint(0, 10, (batch_size,)).to(device)\n",
        "        generated_data = generator(noise, fake_labels) # batch_size X 784\n",
        "\n",
        "        \n",
        "        # Discriminator\n",
        "        true_data = data_input[0].view(batch_size, 784).to(device) # batch_size X 784\n",
        "        digit_labels = data_input[1].to(device) # batch_size\n",
        "        true_labels = torch.ones(batch_size).to(device)\n",
        "        \n",
        "        discriminator_optimizer.zero_grad()\n",
        "\n",
        "        discriminator_output_for_true_data = discriminator(true_data, digit_labels).view(batch_size)\n",
        "        true_discriminator_loss = loss(discriminator_output_for_true_data, true_labels)\n",
        "\n",
        "        discriminator_output_for_generated_data = discriminator(generated_data.detach(), fake_labels).view(batch_size)\n",
        "        generator_discriminator_loss = loss(\n",
        "            discriminator_output_for_generated_data, torch.zeros(batch_size).to(device)\n",
        "        )\n",
        "        discriminator_loss = (\n",
        "            true_discriminator_loss + generator_discriminator_loss\n",
        "        ) / 2\n",
        "        \n",
        "        discriminator_loss.backward()\n",
        "        discriminator_optimizer.step()\n",
        "\n",
        "        D_loss.append(discriminator_loss.data.item())\n",
        "        \n",
        "        \n",
        "        # Generator\n",
        "\n",
        "        generator_optimizer.zero_grad()\n",
        "        # It's a choice to generate the data again\n",
        "        generated_data = generator(noise, fake_labels) # batch_size X 784\n",
        "        discriminator_output_on_generated_data = discriminator(generated_data, fake_labels).view(batch_size)\n",
        "        generator_loss = loss(discriminator_output_on_generated_data, true_labels)\n",
        "        generator_loss.backward()\n",
        "        generator_optimizer.step()\n",
        "        \n",
        "        G_loss.append(generator_loss.data.item())\n",
        "        if ((batch_idx + 1)% 500 == 0 and (epoch_idx + 1)%10 == 0):\n",
        "            print(\"Training Steps Completed: \", batch_idx)\n",
        "            \n",
        "            with torch.no_grad():\n",
        "                noise = torch.randn(batch_size,100).to(device)\n",
        "                fake_labels = torch.randint(0, 10, (batch_size,)).to(device)\n",
        "                generated_data = generator(noise, fake_labels).cpu().view(batch_size, 28, 28)\n",
        "                for x in generated_data:\n",
        "                    print(fake_labels[0].item())\n",
        "                    plt.imshow(x.detach().numpy(), interpolation='nearest',cmap='gray')\n",
        "                    plt.axis('off')\n",
        "                    plt.show()\n",
        "\n",
        "                    break\n",
        "\n",
        "\n",
        "    print('[%d/%d]: loss_d: %.3f, loss_g: %.3f' % (\n",
        "            (epoch_idx), n_epochs, torch.mean(torch.FloatTensor(D_loss)), torch.mean(torch.FloatTensor(G_loss))))"
      ],
      "metadata": {
        "colab": {
          "base_uri": "https://localhost:8080/",
          "height": 1000
        },
        "id": "KbqjFyCH_FyE",
        "outputId": "4ef4d2df-3a11-4869-8b8b-c6f72e13e316"
      },
      "execution_count": null,
      "outputs": [
        {
          "output_type": "stream",
          "name": "stdout",
          "text": [
            "[0/120]: loss_d: 0.475, loss_g: 2.355\n",
            "[1/120]: loss_d: 0.570, loss_g: 1.733\n",
            "[2/120]: loss_d: 0.513, loss_g: 1.756\n",
            "[3/120]: loss_d: 0.476, loss_g: 1.800\n",
            "[4/120]: loss_d: 0.289, loss_g: 2.519\n",
            "[5/120]: loss_d: 0.245, loss_g: 2.897\n",
            "[6/120]: loss_d: 0.258, loss_g: 2.918\n",
            "[7/120]: loss_d: 0.267, loss_g: 2.769\n",
            "[8/120]: loss_d: 0.289, loss_g: 2.670\n",
            "Training Steps Completed:  499\n",
            "7\n"
          ]
        },
        {
          "output_type": "display_data",
          "data": {
            "text/plain": [
              "<Figure size 432x288 with 1 Axes>"
            ],
            "image/png": "[encoded data removed]"
          },
          "metadata": {
            "needs_background": "light"
          }
        },
        {
          "output_type": "stream",
          "name": "stdout",
          "text": [
            "[9/120]: loss_d: 0.288, loss_g: 2.632\n",
            "[10/120]: loss_d: 0.319, loss_g: 2.364\n",
            "[11/120]: loss_d: 0.348, loss_g: 2.222\n",
            "[12/120]: loss_d: 0.358, loss_g: 2.129\n",
            "[13/120]: loss_d: 0.381, loss_g: 2.017\n",
            "[14/120]: loss_d: 0.403, loss_g: 1.895\n",
            "[15/120]: loss_d: 0.394, loss_g: 1.925\n",
            "[16/120]: loss_d: 0.412, loss_g: 1.844\n",
            "[17/120]: loss_d: 0.422, loss_g: 1.800\n",
            "[18/120]: loss_d: 0.425, loss_g: 1.772\n",
            "Training Steps Completed:  499\n",
            "1\n"
          ]
        },
        {
          "output_type": "display_data",
          "data": {
            "text/plain": [
              "<Figure size 432x288 with 1 Axes>"
            ],
            "image/png": "[encoded data removed]"
          },
          "metadata": {
            "needs_background": "light"
          }
        },
        {
          "output_type": "stream",
          "name": "stdout",
          "text": [
            "[19/120]: loss_d: 0.436, loss_g: 1.715\n",
            "[20/120]: loss_d: 0.456, loss_g: 1.626\n",
            "[21/120]: loss_d: 0.454, loss_g: 1.618\n",
            "[22/120]: loss_d: 0.465, loss_g: 1.586\n",
            "[23/120]: loss_d: 0.462, loss_g: 1.615\n",
            "[24/120]: loss_d: 0.476, loss_g: 1.534\n",
            "[25/120]: loss_d: 0.492, loss_g: 1.447\n",
            "[26/120]: loss_d: 0.492, loss_g: 1.454\n",
            "[27/120]: loss_d: 0.501, loss_g: 1.410\n",
            "[28/120]: loss_d: 0.503, loss_g: 1.413\n",
            "Training Steps Completed:  499\n",
            "2\n"
          ]
        },
        {
          "output_type": "display_data",
          "data": {
            "text/plain": [
              "<Figure size 432x288 with 1 Axes>"
            ],
            "image/png": "[encoded data removed]"
          },
          "metadata": {
            "needs_background": "light"
          }
        },
        {
          "output_type": "stream",
          "name": "stdout",
          "text": [
            "[29/120]: loss_d: 0.503, loss_g: 1.418\n",
            "[30/120]: loss_d: 0.523, loss_g: 1.315\n",
            "[31/120]: loss_d: 0.540, loss_g: 1.243\n",
            "[32/120]: loss_d: 0.547, loss_g: 1.216\n",
            "[33/120]: loss_d: 0.556, loss_g: 1.187\n",
            "[34/120]: loss_d: 0.556, loss_g: 1.180\n",
            "[35/120]: loss_d: 0.556, loss_g: 1.181\n",
            "[36/120]: loss_d: 0.560, loss_g: 1.171\n",
            "[37/120]: loss_d: 0.563, loss_g: 1.151\n",
            "[38/120]: loss_d: 0.578, loss_g: 1.100\n",
            "Training Steps Completed:  499\n",
            "2\n"
          ]
        },
        {
          "output_type": "display_data",
          "data": {
            "text/plain": [
              "<Figure size 432x288 with 1 Axes>"
            ],
            "image/png": "[encoded data removed]"
          },
          "metadata": {
            "needs_background": "light"
          }
        },
        {
          "output_type": "stream",
          "name": "stdout",
          "text": [
            "[39/120]: loss_d: 0.577, loss_g: 1.113\n",
            "[40/120]: loss_d: 0.578, loss_g: 1.098\n",
            "[41/120]: loss_d: 0.577, loss_g: 1.104\n",
            "[42/120]: loss_d: 0.584, loss_g: 1.073\n",
            "[43/120]: loss_d: 0.593, loss_g: 1.044\n",
            "[44/120]: loss_d: 0.591, loss_g: 1.044\n",
            "[45/120]: loss_d: 0.594, loss_g: 1.051\n",
            "[46/120]: loss_d: 0.594, loss_g: 1.047\n",
            "[47/120]: loss_d: 0.599, loss_g: 1.016\n",
            "[48/120]: loss_d: 0.610, loss_g: 0.984\n",
            "Training Steps Completed:  499\n",
            "2\n"
          ]
        },
        {
          "output_type": "display_data",
          "data": {
            "text/plain": [
              "<Figure size 432x288 with 1 Axes>"
            ],
            "image/png": "[encoded data removed]"
          },
          "metadata": {
            "needs_background": "light"
          }
        },
        {
          "output_type": "stream",
          "name": "stdout",
          "text": [
            "[49/120]: loss_d: 0.610, loss_g: 0.989\n",
            "[50/120]: loss_d: 0.610, loss_g: 0.982\n",
            "[51/120]: loss_d: 0.615, loss_g: 0.968\n",
            "[52/120]: loss_d: 0.611, loss_g: 0.982\n",
            "[53/120]: loss_d: 0.611, loss_g: 0.981\n",
            "[54/120]: loss_d: 0.618, loss_g: 0.949\n",
            "[55/120]: loss_d: 0.615, loss_g: 0.962\n",
            "[56/120]: loss_d: 0.617, loss_g: 0.962\n",
            "[57/120]: loss_d: 0.617, loss_g: 0.960\n",
            "[58/120]: loss_d: 0.622, loss_g: 0.939\n",
            "Training Steps Completed:  499\n",
            "6\n"
          ]
        },
        {
          "output_type": "display_data",
          "data": {
            "text/plain": [
              "<Figure size 432x288 with 1 Axes>"
            ],
            "image/png": "[encoded data removed]"
          },
          "metadata": {
            "needs_background": "light"
          }
        },
        {
          "output_type": "stream",
          "name": "stdout",
          "text": [
            "[59/120]: loss_d: 0.620, loss_g: 0.947\n",
            "[60/120]: loss_d: 0.623, loss_g: 0.941\n",
            "[61/120]: loss_d: 0.616, loss_g: 0.964\n",
            "[62/120]: loss_d: 0.617, loss_g: 0.960\n",
            "[63/120]: loss_d: 0.625, loss_g: 0.928\n",
            "[64/120]: loss_d: 0.620, loss_g: 0.949\n",
            "[65/120]: loss_d: 0.624, loss_g: 0.934\n",
            "[66/120]: loss_d: 0.634, loss_g: 0.904\n",
            "[67/120]: loss_d: 0.627, loss_g: 0.923\n",
            "[68/120]: loss_d: 0.628, loss_g: 0.912\n",
            "Training Steps Completed:  499\n",
            "1\n"
          ]
        },
        {
          "output_type": "display_data",
          "data": {
            "text/plain": [
              "<Figure size 432x288 with 1 Axes>"
            ],
            "image/png": "[encoded data removed]"
          },
          "metadata": {
            "needs_background": "light"
          }
        },
        {
          "output_type": "stream",
          "name": "stdout",
          "text": [
            "[69/120]: loss_d: 0.634, loss_g: 0.903\n",
            "[70/120]: loss_d: 0.628, loss_g: 0.918\n",
            "[71/120]: loss_d: 0.634, loss_g: 0.902\n",
            "[72/120]: loss_d: 0.636, loss_g: 0.897\n",
            "[73/120]: loss_d: 0.630, loss_g: 0.907\n",
            "[74/120]: loss_d: 0.633, loss_g: 0.903\n",
            "[75/120]: loss_d: 0.631, loss_g: 0.908\n",
            "[76/120]: loss_d: 0.637, loss_g: 0.888\n",
            "[77/120]: loss_d: 0.639, loss_g: 0.888\n",
            "[78/120]: loss_d: 0.636, loss_g: 0.892\n",
            "Training Steps Completed:  499\n",
            "1\n"
          ]
        },
        {
          "output_type": "display_data",
          "data": {
            "text/plain": [
              "<Figure size 432x288 with 1 Axes>"
            ],
            "image/png": "[encoded data removed]"
          },
          "metadata": {
            "needs_background": "light"
          }
        },
        {
          "output_type": "stream",
          "name": "stdout",
          "text": [
            "[79/120]: loss_d: 0.637, loss_g: 0.898\n",
            "[80/120]: loss_d: 0.642, loss_g: 0.872\n",
            "[81/120]: loss_d: 0.640, loss_g: 0.871\n",
            "[82/120]: loss_d: 0.645, loss_g: 0.859\n",
            "[83/120]: loss_d: 0.647, loss_g: 0.855\n",
            "[84/120]: loss_d: 0.634, loss_g: 0.907\n",
            "[85/120]: loss_d: 0.641, loss_g: 0.874\n",
            "[86/120]: loss_d: 0.639, loss_g: 0.881\n",
            "[87/120]: loss_d: 0.643, loss_g: 0.870\n",
            "[88/120]: loss_d: 0.648, loss_g: 0.849\n",
            "Training Steps Completed:  499\n",
            "2\n"
          ]
        },
        {
          "output_type": "display_data",
          "data": {
            "text/plain": [
              "<Figure size 432x288 with 1 Axes>"
            ],
            "image/png": "[encoded data removed]"
          },
          "metadata": {
            "needs_background": "light"
          }
        },
        {
          "output_type": "stream",
          "name": "stdout",
          "text": [
            "[89/120]: loss_d: 0.649, loss_g: 0.851\n",
            "[90/120]: loss_d: 0.644, loss_g: 0.874\n",
            "[91/120]: loss_d: 0.646, loss_g: 0.853\n",
            "[92/120]: loss_d: 0.646, loss_g: 0.867\n",
            "[93/120]: loss_d: 0.649, loss_g: 0.847\n",
            "[94/120]: loss_d: 0.649, loss_g: 0.854\n",
            "[95/120]: loss_d: 0.647, loss_g: 0.861\n",
            "[96/120]: loss_d: 0.647, loss_g: 0.863\n",
            "[97/120]: loss_d: 0.643, loss_g: 0.879\n",
            "[98/120]: loss_d: 0.643, loss_g: 0.868\n",
            "Training Steps Completed:  499\n",
            "2\n"
          ]
        },
        {
          "output_type": "display_data",
          "data": {
            "text/plain": [
              "<Figure size 432x288 with 1 Axes>"
            ],
            "image/png": "[encoded data removed]"
          },
          "metadata": {
            "needs_background": "light"
          }
        },
        {
          "output_type": "stream",
          "name": "stdout",
          "text": [
            "[99/120]: loss_d: 0.644, loss_g: 0.867\n",
            "[100/120]: loss_d: 0.648, loss_g: 0.854\n",
            "[101/120]: loss_d: 0.647, loss_g: 0.859\n",
            "[102/120]: loss_d: 0.647, loss_g: 0.848\n",
            "[103/120]: loss_d: 0.653, loss_g: 0.838\n",
            "[104/120]: loss_d: 0.651, loss_g: 0.841\n",
            "[105/120]: loss_d: 0.658, loss_g: 0.826\n",
            "[106/120]: loss_d: 0.650, loss_g: 0.845\n",
            "[107/120]: loss_d: 0.650, loss_g: 0.843\n",
            "[108/120]: loss_d: 0.656, loss_g: 0.824\n",
            "Training Steps Completed:  499\n",
            "5\n"
          ]
        },
        {
          "output_type": "display_data",
          "data": {
            "text/plain": [
              "<Figure size 432x288 with 1 Axes>"
            ],
            "image/png": "[encoded data removed]"
          },
          "metadata": {
            "needs_background": "light"
          }
        },
        {
          "output_type": "stream",
          "name": "stdout",
          "text": [
            "[109/120]: loss_d: 0.657, loss_g: 0.837\n",
            "[110/120]: loss_d: 0.644, loss_g: 0.866\n",
            "[111/120]: loss_d: 0.651, loss_g: 0.845\n",
            "[112/120]: loss_d: 0.648, loss_g: 0.865\n",
            "[113/120]: loss_d: 0.652, loss_g: 0.845\n",
            "[114/120]: loss_d: 0.653, loss_g: 0.839\n",
            "[115/120]: loss_d: 0.657, loss_g: 0.825\n",
            "[116/120]: loss_d: 0.661, loss_g: 0.810\n",
            "[117/120]: loss_d: 0.662, loss_g: 0.811\n",
            "[118/120]: loss_d: 0.658, loss_g: 0.824\n",
            "Training Steps Completed:  499\n",
            "6\n"
          ]
        },
        {
          "output_type": "display_data",
          "data": {
            "text/plain": [
              "<Figure size 432x288 with 1 Axes>"
            ],
            "image/png": "[encoded data removed]"
          },
          "metadata": {
            "needs_background": "light"
          }
        },
        {
          "output_type": "stream",
          "name": "stdout",
          "text": [
            "[119/120]: loss_d: 0.651, loss_g: 0.850\n"
          ]
        }
      ]
    },
    {
      "cell_type": "code",
      "source": [
        "generator(noise, fake_labels).cpu().view(batch_size, 28, 28)"
      ],
      "metadata": {
        "colab": {
          "base_uri": "https://localhost:8080/"
        },
        "id": "1puJqP9a_F0S",
        "outputId": "d8ead6ce-5b41-4ab3-fbd4-49c8505b1753"
      },
      "execution_count": null,
      "outputs": [
        {
          "output_type": "execute_result",
          "data": {
            "text/plain": [
              "tensor([[[-0.9996, -0.9970, -0.9996,  ..., -0.9994, -0.9993, -0.9973],\n",
              "         [-0.9979, -0.9978, -0.9971,  ..., -0.9992, -0.9973, -0.9921],\n",
              "         [-0.9978, -0.9978, -0.9995,  ..., -0.9987, -0.9975, -0.9986],\n",
              "         ...,\n",
              "         [-0.9981, -0.9997, -0.9994,  ..., -0.9897, -0.9947, -0.9924],\n",
              "         [-0.9987, -0.9981, -0.9973,  ..., -0.9974, -0.9990, -0.9996],\n",
              "         [-0.9990, -0.9973, -0.9985,  ..., -0.9961, -0.9978, -0.9990]],\n",
              "\n",
              "        [[-1.0000, -1.0000, -1.0000,  ..., -1.0000, -1.0000, -0.9995],\n",
              "         [-0.9929, -1.0000, -0.9999,  ..., -1.0000, -1.0000, -1.0000],\n",
              "         [-0.9998, -1.0000, -0.9993,  ..., -0.9975, -0.9998, -1.0000],\n",
              "         ...,\n",
              "         [-1.0000, -1.0000, -1.0000,  ..., -1.0000, -0.9988, -1.0000],\n",
              "         [-1.0000, -0.9999, -1.0000,  ..., -0.9999, -1.0000, -1.0000],\n",
              "         [-1.0000, -1.0000, -1.0000,  ..., -1.0000, -0.9960, -0.9999]],\n",
              "\n",
              "        [[-1.0000, -0.9969, -1.0000,  ..., -0.9999, -0.9999, -0.9998],\n",
              "         [-1.0000, -0.9998, -0.9999,  ..., -0.9991, -0.9998, -1.0000],\n",
              "         [-1.0000, -0.9999, -0.9960,  ..., -1.0000, -0.9995, -0.9999],\n",
              "         ...,\n",
              "         [-1.0000, -0.9998, -0.9998,  ..., -1.0000, -0.9971, -0.9995],\n",
              "         [-0.9993, -0.9999, -0.9932,  ..., -0.9999, -1.0000, -0.9994],\n",
              "         [-1.0000, -0.9997, -0.9998,  ..., -0.9998, -0.9998, -0.9998]],\n",
              "\n",
              "        ...,\n",
              "\n",
              "        [[-1.0000, -0.9917, -0.9991,  ..., -0.9942, -0.9946, -0.9977],\n",
              "         [-0.9997, -0.9996, -1.0000,  ..., -0.5487, -0.9999, -0.9996],\n",
              "         [-0.9995, -0.9990, -0.9845,  ..., -0.9999, -0.9989, -0.9999],\n",
              "         ...,\n",
              "         [-0.9996, -0.9996, -0.9998,  ..., -0.9996, -0.9902, -0.9812],\n",
              "         [-0.9994, -0.9462, -0.9192,  ..., -1.0000, -1.0000, -0.9990],\n",
              "         [-0.9904, -0.9915, -0.9986,  ..., -0.9998, -0.9998, -0.9999]],\n",
              "\n",
              "        [[-1.0000, -1.0000, -1.0000,  ..., -1.0000, -1.0000, -1.0000],\n",
              "         [-1.0000, -1.0000, -1.0000,  ..., -1.0000, -1.0000, -1.0000],\n",
              "         [-1.0000, -1.0000, -1.0000,  ..., -1.0000, -1.0000, -1.0000],\n",
              "         ...,\n",
              "         [-1.0000, -0.9999, -1.0000,  ..., -1.0000, -1.0000, -1.0000],\n",
              "         [-1.0000, -1.0000, -1.0000,  ..., -1.0000, -1.0000, -1.0000],\n",
              "         [-1.0000, -1.0000, -0.9999,  ..., -1.0000, -1.0000, -1.0000]],\n",
              "\n",
              "        [[-1.0000, -0.9999, -1.0000,  ..., -1.0000, -1.0000, -1.0000],\n",
              "         [-1.0000, -1.0000, -1.0000,  ..., -1.0000, -1.0000, -1.0000],\n",
              "         [-1.0000, -1.0000, -1.0000,  ..., -1.0000, -1.0000, -1.0000],\n",
              "         ...,\n",
              "         [-1.0000, -1.0000, -1.0000,  ..., -1.0000, -0.9998, -1.0000],\n",
              "         [-1.0000, -1.0000, -1.0000,  ..., -1.0000, -1.0000, -1.0000],\n",
              "         [-1.0000, -1.0000, -1.0000,  ..., -1.0000, -1.0000, -1.0000]]],\n",
              "       grad_fn=<ViewBackward0>)"
            ]
          },
          "metadata": {},
          "execution_count": 11
        }
      ]
    },
    {
      "cell_type": "code",
      "source": [
        "generated_data = generator(noise, fake_labels).cpu().view(batch_size, 28, 28)\n",
        "for x in generated_data:\n",
        "    print(fake_labels[0].item())\n",
        "    plt.imshow(x.detach().numpy(), interpolation='nearest',cmap='gray')\n",
        "    plt.show()\n",
        "\n",
        "    break"
      ],
      "metadata": {
        "colab": {
          "base_uri": "https://localhost:8080/",
          "height": 282
        },
        "id": "RdjYgZUm_F2m",
        "outputId": "f324c29f-8e77-47cc-ef49-49a1a0e64e62"
      },
      "execution_count": null,
      "outputs": [
        {
          "output_type": "stream",
          "name": "stdout",
          "text": [
            "0\n"
          ]
        },
        {
          "output_type": "display_data",
          "data": {
            "text/plain": [
              "<Figure size 432x288 with 1 Axes>"
            ],
            "image/png": "[encoded data removed]"
          },
          "metadata": {
            "needs_background": "light"
          }
        }
      ]
    },
    {
      "cell_type": "code",
      "source": [
        "fake_labels"
      ],
      "metadata": {
        "colab": {
          "base_uri": "https://localhost:8080/"
        },
        "id": "pVkpzNhaLXVO",
        "outputId": "b3b8549f-7d9a-4a83-eb84-d4f6075d2149"
      },
      "execution_count": null,
      "outputs": [
        {
          "output_type": "execute_result",
          "data": {
            "text/plain": [
              "tensor([0, 7, 6, 4, 3, 1, 9, 9, 3, 5, 1, 2, 5, 9, 0, 8, 4, 0, 9, 4, 2, 9, 9, 4,\n",
              "        5, 8, 0, 8, 4, 3, 1, 4, 9, 3, 7, 8, 0, 3, 5, 3, 0, 0, 2, 9, 7, 5, 7, 5,\n",
              "        9, 5, 5, 2, 7, 2, 5, 0, 7, 9, 7, 5, 1, 2, 8, 7, 8, 0, 8, 7, 3, 9, 9, 5,\n",
              "        9, 3, 2, 0, 7, 1, 4, 5, 2, 8, 4, 7, 5, 0, 5, 0, 1, 0, 0, 0, 0, 6, 1, 3,\n",
              "        3, 6, 9, 1], device='cuda:0')"
            ]
          },
          "metadata": {},
          "execution_count": 138
        }
      ]
    },
    {
      "cell_type": "code",
      "source": [
        "fake_labels2= torch.tensor([0,1,2,3,4,5,6,7,8,9]).to(device)\n",
        "fake_labels2\n",
        "noise2 = torch.randn(10,100).to(device)"
      ],
      "metadata": {
        "id": "tOv7Vs_P_F4_"
      },
      "execution_count": null,
      "outputs": []
    },
    {
      "cell_type": "code",
      "source": [
        "generated_data = generator(noise2, fake_labels2).cpu().view(10, 28, 28)"
      ],
      "metadata": {
        "id": "X_9PCZUKMKwQ"
      },
      "execution_count": null,
      "outputs": []
    },
    {
      "cell_type": "code",
      "source": [
        "i= 9\n",
        "x = generated_data[i]\n",
        "print(i)\n",
        "plt.imshow(x.detach().numpy(), interpolation='nearest',cmap='gray')\n",
        "plt.axis('off')\n",
        "plt.show()\n",
        "\n",
        "\n"
      ],
      "metadata": {
        "colab": {
          "base_uri": "https://localhost:8080/",
          "height": 265
        },
        "id": "b20bOrW4RDWs",
        "outputId": "e0ff7b18-8632-446c-ea3c-334a801d8249"
      },
      "execution_count": null,
      "outputs": [
        {
          "output_type": "stream",
          "name": "stdout",
          "text": [
            "9\n"
          ]
        },
        {
          "output_type": "display_data",
          "data": {
            "text/plain": [
              "<Figure size 432x288 with 1 Axes>"
            ],
            "image/png": "[encoded data removed]"
          },
          "metadata": {
            "needs_background": "light"
          }
        }
      ]
    },
    {
      "cell_type": "code",
      "source": [
        "PATH = \"/content/drive/MyDrive/DeepLearning/coStyleGAN2.pt\"\n",
        "torch.save(generator, PATH)"
      ],
      "metadata": {
        "id": "zYXbTcULcuc3"
      },
      "execution_count": null,
      "outputs": []
    },
    {
      "cell_type": "code",
      "source": [
        "model = torch.load(PATH)\n",
        "model.eval()"
      ],
      "metadata": {
        "colab": {
          "base_uri": "https://localhost:8080/"
        },
        "id": "6xqp7ZeYe1cI",
        "outputId": "05c85f6e-9f31-48e7-90a4-c4cc47c41db2"
      },
      "execution_count": null,
      "outputs": [
        {
          "output_type": "execute_result",
          "data": {
            "text/plain": [
              "GeneratorModel(\n",
              "  (label_embedding): Embedding(10, 10)\n",
              "  (hidden_layer1): Sequential(\n",
              "    (0): Linear(in_features=110, out_features=256, bias=True)\n",
              "    (1): LeakyReLU(negative_slope=0.2)\n",
              "  )\n",
              "  (hidden_layer2): Sequential(\n",
              "    (0): Linear(in_features=256, out_features=512, bias=True)\n",
              "    (1): LeakyReLU(negative_slope=0.2)\n",
              "  )\n",
              "  (hidden_layer3): Sequential(\n",
              "    (0): Linear(in_features=512, out_features=1024, bias=True)\n",
              "    (1): LeakyReLU(negative_slope=0.2)\n",
              "  )\n",
              "  (hidden_layer4): Sequential(\n",
              "    (0): Linear(in_features=1024, out_features=784, bias=True)\n",
              "    (1): Tanh()\n",
              "  )\n",
              ")"
            ]
          },
          "metadata": {},
          "execution_count": 37
        }
      ]
    },
    {
      "cell_type": "code",
      "source": [
        "generated_data2 = model(noise2, fake_labels2).cpu().view(10, 28, 28)"
      ],
      "metadata": {
        "id": "WaokNSEAfFYX"
      },
      "execution_count": null,
      "outputs": []
    },
    {
      "cell_type": "code",
      "source": [
        "i= 3\n",
        "x = generated_data2[i]\n",
        "print(i)\n",
        "plt.imshow(x.detach().numpy(), interpolation='nearest',cmap='gray')\n",
        "plt.show()"
      ],
      "metadata": {
        "colab": {
          "base_uri": "https://localhost:8080/",
          "height": 282
        },
        "id": "8pz1Ld4eflqK",
        "outputId": "2874222d-6afb-4297-8eea-9591de477aee"
      },
      "execution_count": null,
      "outputs": [
        {
          "output_type": "stream",
          "name": "stdout",
          "text": [
            "3\n"
          ]
        },
        {
          "output_type": "display_data",
          "data": {
            "text/plain": [
              "<Figure size 432x288 with 1 Axes>"
            ],
            "image/png": "[encoded data removed]"
          },
          "metadata": {
            "needs_background": "light"
          }
        }
      ]
    },
    {
      "cell_type": "markdown",
      "source": [
        "**Zusammenführung von CNN und conditional StyleGAN**"
      ],
      "metadata": {
        "id": "vBz6xLkYdVEA"
      }
    },
    {
      "cell_type": "code",
      "source": [
        "PATH='/content/drive/MyDrive/DeepLearning/CNN_Classifier'\n",
        "CNN = tf.keras.models.load_model(PATH)"
      ],
      "metadata": {
        "id": "KRB_knSl784f"
      },
      "execution_count": null,
      "outputs": []
    },
    {
      "cell_type": "code",
      "source": [
        "PATH = \"/content/drive/MyDrive/DeepLearning/coStyleGAN2.pt\"\n",
        "generator_model = torch.load(PATH)\n",
        "generator_model.eval()"
      ],
      "metadata": {
        "colab": {
          "base_uri": "https://localhost:8080/"
        },
        "id": "ekXnMOhG79l9",
        "outputId": "6182b36b-4dae-4747-89fa-c5926ade0109"
      },
      "execution_count": null,
      "outputs": [
        {
          "output_type": "execute_result",
          "data": {
            "text/plain": [
              "GeneratorModel(\n",
              "  (label_embedding): Embedding(10, 10)\n",
              "  (hidden_layer1): Sequential(\n",
              "    (0): Linear(in_features=110, out_features=256, bias=True)\n",
              "    (1): LeakyReLU(negative_slope=0.2)\n",
              "  )\n",
              "  (hidden_layer2): Sequential(\n",
              "    (0): Linear(in_features=256, out_features=512, bias=True)\n",
              "    (1): LeakyReLU(negative_slope=0.2)\n",
              "  )\n",
              "  (hidden_layer3): Sequential(\n",
              "    (0): Linear(in_features=512, out_features=1024, bias=True)\n",
              "    (1): LeakyReLU(negative_slope=0.2)\n",
              "  )\n",
              "  (hidden_layer4): Sequential(\n",
              "    (0): Linear(in_features=1024, out_features=784, bias=True)\n",
              "    (1): Tanh()\n",
              "  )\n",
              ")"
            ]
          },
          "metadata": {},
          "execution_count": 16
        }
      ]
    },
    {
      "cell_type": "code",
      "source": [
        "input1 = x_test[0]\n",
        "input2 = x_test[1]\n",
        "pred1 = CNN.predict(input1.reshape(1, 28, 28, 1))\n",
        "pred2 = CNN.predict(input2.reshape(1, 28, 28, 1))\n",
        "number1, number2 = pred1.argmax(), pred2.argmax()"
      ],
      "metadata": {
        "id": "sfDY6WWN87E1"
      },
      "execution_count": null,
      "outputs": []
    },
    {
      "cell_type": "code",
      "source": [
        "number1, number2"
      ],
      "metadata": {
        "colab": {
          "base_uri": "https://localhost:8080/"
        },
        "id": "wpkCyMuH9GyL",
        "outputId": "681ecbab-8298-4d09-98c5-581dd6d212f8"
      },
      "execution_count": null,
      "outputs": [
        {
          "output_type": "execute_result",
          "data": {
            "text/plain": [
              "(7, 2)"
            ]
          },
          "metadata": {},
          "execution_count": 25
        }
      ]
    },
    {
      "cell_type": "code",
      "source": [
        "sum = number1 + number2\n",
        "sum"
      ],
      "metadata": {
        "colab": {
          "base_uri": "https://localhost:8080/"
        },
        "id": "niAGK5e0x7x-",
        "outputId": "15588388-e6aa-4aeb-e308-940dc3c928a8"
      },
      "execution_count": null,
      "outputs": [
        {
          "output_type": "execute_result",
          "data": {
            "text/plain": [
              "9"
            ]
          },
          "metadata": {},
          "execution_count": 27
        }
      ]
    },
    {
      "cell_type": "code",
      "source": [
        "def generate_mnist(generator=generator_model,num_to_gen=0):\n",
        "  fake_labels2= torch.tensor([int(num_to_gen)]).to(device)\n",
        "  fake_labels2\n",
        "  noise2 = torch.randn(1,100).to(device)\n",
        "\n",
        "  generated_data = generator(noise2, fake_labels2).cpu().view(1, 28, 28)\n",
        "\n",
        "  return generated_data[0]\n"
      ],
      "metadata": {
        "id": "r23j_8fY9VNt"
      },
      "execution_count": null,
      "outputs": []
    },
    {
      "cell_type": "code",
      "source": [
        "def plot_mnist(generated_data):\n",
        "  plt.imshow(generated_data.detach().numpy(), interpolation='nearest',cmap='gray')\n",
        "  plt.axis('off')\n",
        "  plt.show()\n"
      ],
      "metadata": {
        "id": "9yDEx4F3_Ruv"
      },
      "execution_count": null,
      "outputs": []
    },
    {
      "cell_type": "code",
      "source": [
        "x=generate_mnist(num_to_gen=9)\n",
        "\n",
        "plot_mnist(x)\n"
      ],
      "metadata": {
        "colab": {
          "base_uri": "https://localhost:8080/",
          "height": 248
        },
        "id": "YpaPFWqy9VQM",
        "outputId": "964bd79c-3cb3-4ffd-b78d-34ea85a530c6"
      },
      "execution_count": null,
      "outputs": [
        {
          "output_type": "display_data",
          "data": {
            "text/plain": [
              "<Figure size 432x288 with 1 Axes>"
            ],
            "image/png": "[encoded data removed]"
          },
          "metadata": {
            "needs_background": "light"
          }
        }
      ]
    },
    {
      "cell_type": "code",
      "source": [
        ""
      ],
      "metadata": {
        "id": "sK8xwuHP9VSi"
      },
      "execution_count": null,
      "outputs": []
    },
    {
      "cell_type": "code",
      "source": [
        "def mnist_digit_print(output1, output2,output_mode=True):\n",
        "  if output_mode == True:\n",
        "    fig = plt.figure(figsize=(1,2))\n",
        "    plt.subplot(1,2,1)\n",
        "    plt.imshow(output1.detach().numpy(), interpolation='nearest',cmap='gray')\n",
        "    plt.axis('off')\n",
        "    plt.subplot(1,2,2)\n",
        "    plt.imshow(output2.detach().numpy(), interpolation='nearest',cmap='gray')\n",
        "    plt.axis('off');\n",
        "\n",
        "  if output_mode == False:\n",
        "    fig = plt.figure(figsize=(1,2))\n",
        "    plt.subplot(1,2,1)\n",
        "    plt.imshow(output1.reshape(28, 28),cmap='Greys')\n",
        "    plt.axis('off')\n",
        "    plt.subplot(1,2,2)\n",
        "    plt.imshow(output2.reshape(28, 28),cmap='Greys')\n",
        "    plt.axis('off');\n"
      ],
      "metadata": {
        "id": "Alt_VUsJ9VU1"
      },
      "execution_count": null,
      "outputs": []
    },
    {
      "cell_type": "code",
      "source": [
        "x1=generate_mnist(num_to_gen=1)\n",
        "x2=generate_mnist(num_to_gen=9)\n",
        "mnist_digit_print(x1,x2)"
      ],
      "metadata": {
        "colab": {
          "base_uri": "https://localhost:8080/",
          "height": 56
        },
        "id": "b2mq1Wpi9VXF",
        "outputId": "26b9c6ee-02ea-4804-f4e5-e8df46b04ec3"
      },
      "execution_count": null,
      "outputs": [
        {
          "output_type": "display_data",
          "data": {
            "text/plain": [
              "<Figure size 72x144 with 2 Axes>"
            ],
            "image/png": "[encoded data removed]"
          },
          "metadata": {
            "needs_background": "light"
          }
        }
      ]
    },
    {
      "cell_type": "code",
      "source": [
        "\n"
      ],
      "metadata": {
        "colab": {
          "base_uri": "https://localhost:8080/",
          "height": 56
        },
        "id": "ULmMfNYfBHSo",
        "outputId": "be16a278-e06d-426c-b6cd-976bce9efd41"
      },
      "execution_count": null,
      "outputs": [
        {
          "output_type": "display_data",
          "data": {
            "text/plain": [
              "<Figure size 72x144 with 2 Axes>"
            ],
            "image/png": "[encoded data removed]"
          },
          "metadata": {
            "needs_background": "light"
          }
        }
      ]
    },
    {
      "cell_type": "code",
      "source": [
        "def print_sum(sum):\n",
        "  if sum <=9:\n",
        "    x1=generate_mnist(num_to_gen=0)\n",
        "    x2=generate_mnist(num_to_gen=sum)\n",
        "    mnist_digit_print(x1,x2)\n",
        "  if sum >10:\n",
        "    x1=generate_mnist(num_to_gen=1)\n",
        "    x2=generate_mnist(num_to_gen=sum-10)\n",
        "    mnist_digit_print(x1,x2)\n"
      ],
      "metadata": {
        "id": "D1uXu4CzBmbP"
      },
      "execution_count": null,
      "outputs": []
    },
    {
      "cell_type": "code",
      "source": [
        "def mnist_sum(classification_model, input1=x_test[0], input2=x_test[1]):\n",
        "  pred1 = classification_model.predict(input1.reshape(1, 28, 28, 1))\n",
        "  pred2 = classification_model.predict(input2.reshape(1, 28, 28, 1))\n",
        "\n",
        "  number1, number2 = pred1.argmax(), pred2.argmax()\n",
        "\n",
        "  sum = number1 + number2\n",
        "\n",
        "  print_sum(sum)"
      ],
      "metadata": {
        "id": "ddoy0QSMx72W"
      },
      "execution_count": null,
      "outputs": []
    },
    {
      "cell_type": "markdown",
      "source": [
        "**Beispiel**"
      ],
      "metadata": {
        "id": "DckrYJC4sTzu"
      }
    },
    {
      "cell_type": "code",
      "source": [
        "index1=9\n",
        "index2=30\n",
        "mnist_digit_print(output1=x_test[index1],output2=x_test[index2],output_mode=False)\n",
        "mnist_sum(CNN,input1=x_test[index1], input2=x_test[index2])"
      ],
      "metadata": {
        "colab": {
          "base_uri": "https://localhost:8080/",
          "height": 95
        },
        "id": "reax_yG6x7_D",
        "outputId": "9b6ea48b-f71a-4b4d-9de7-a86d00a41596"
      },
      "execution_count": null,
      "outputs": [
        {
          "output_type": "display_data",
          "data": {
            "text/plain": [
              "<Figure size 72x144 with 2 Axes>"
            ],
            "image/png": "[encoded data removed]"
          },
          "metadata": {
            "needs_background": "light"
          }
        },
        {
          "output_type": "display_data",
          "data": {
            "text/plain": [
              "<Figure size 72x144 with 2 Axes>"
            ],
            "image/png": "[encoded data removed]"
          },
          "metadata": {
            "needs_background": "light"
          }
        }
      ]
    },
    {
      "cell_type": "code",
      "source": [
        ""
      ],
      "metadata": {
        "id": "V_0pHpkqx8H_"
      },
      "execution_count": null,
      "outputs": []
    },
    {
      "cell_type": "code",
      "source": [
        ""
      ],
      "metadata": {
        "id": "b2dghYHXx8KJ"
      },
      "execution_count": null,
      "outputs": []
    },
    {
      "cell_type": "code",
      "source": [
        ""
      ],
      "metadata": {
        "id": "Ss5-eXYbx8Mi"
      },
      "execution_count": null,
      "outputs": []
    },
    {
      "cell_type": "code",
      "source": [
        ""
      ],
      "metadata": {
        "id": "cTzOlNblx8O6"
      },
      "execution_count": null,
      "outputs": []
    },
    {
      "cell_type": "code",
      "source": [
        ""
      ],
      "metadata": {
        "id": "9cSfEJmYx8RE"
      },
      "execution_count": null,
      "outputs": []
    },
    {
      "cell_type": "code",
      "source": [
        ""
      ],
      "metadata": {
        "id": "iMZxdtVMx8TY"
      },
      "execution_count": null,
      "outputs": []
    },
    {
      "cell_type": "code",
      "source": [
        ""
      ],
      "metadata": {
        "id": "SOwaKn5xx8VZ"
      },
      "execution_count": null,
      "outputs": []
    },
    {
      "cell_type": "code",
      "source": [
        ""
      ],
      "metadata": {
        "id": "DPLGMkt1x8Xp"
      },
      "execution_count": null,
      "outputs": []
    },
    {
      "cell_type": "code",
      "source": [
        ""
      ],
      "metadata": {
        "id": "rJNoZGm2x8Z1"
      },
      "execution_count": null,
      "outputs": []
    },
    {
      "cell_type": "code",
      "source": [
        ""
      ],
      "metadata": {
        "id": "RSUy-WOcx8b7"
      },
      "execution_count": null,
      "outputs": []
    }
  ]
}